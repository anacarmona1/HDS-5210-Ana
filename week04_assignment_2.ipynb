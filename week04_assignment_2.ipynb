{
  "cells": [
    {
      "cell_type": "markdown",
      "metadata": {
        "id": "view-in-github",
        "colab_type": "text"
      },
      "source": [
        "<a href=\"https://colab.research.google.com/github/anacarmona1/HDS-5210-Ana/blob/main/week04_assignment_2.ipynb\" target=\"_parent\"><img src=\"https://colab.research.google.com/assets/colab-badge.svg\" alt=\"Open In Colab\"/></a>"
      ]
    },
    {
      "cell_type": "markdown",
      "metadata": {
        "nbgrader": {
          "grade": false,
          "grade_id": "intro",
          "locked": true,
          "schema_version": 1,
          "solution": false
        },
        "id": "vQ-mwPlu9TIk"
      },
      "source": [
        "# Week 4 Assignment\n",
        "\n",
        "See: _McKinney 3.1_ and [Python Documentation](https://docs.python.org/3/tutorial/datastructures.html) section 5 on data structures.\n",
        "\n",
        "Modules 13 through 15 have all been about different built-in data types that can be used to create larger and more complex data structures.  We learned about tuples, lists, dictionaries, and how to access and process that data in new ways.\n",
        "\n",
        "**At the begining of the semester, all of the workshop programming exercises will be structured a specific way to make it easier to verify for yourself that you're on the right track as well as easier for me to do a first pass on automated grading.  The structure of each question will require you to write a function using Python code. Don't worry that we haven't talked about functions yet. Just edit the code between** `### BEGIN SOLUTION` and `### END SOLUTION` **as shown in the example below.**\n"
      ]
    },
    {
      "cell_type": "markdown",
      "metadata": {
        "id": "UcrCnvoE9TIm"
      },
      "source": [
        "**WHAT I PROVIDE:**\n",
        "```\n",
        "def some_function(parameter1, parameter2):\n",
        "\n",
        "   ### BEGIN SOLUTION\n",
        "   x = -1\n",
        "   ### END SOLUTION\n",
        "   \n",
        "   return x\n",
        "```\n",
        "\n",
        "**WHAT YOU SHOULD DO:** Just change the parameter names (if you feel you need to) and the calculations between `### BEGIN SOLUTION` and `### END SOLUTION`.  This is just a made up example.\n",
        "```\n",
        "def some_function(a, b):\n",
        "\n",
        "   ### BEGIN SOLUTION\n",
        "   temp = a + b\n",
        "   x = temp / a * b\n",
        "   ### END SOLUTION\n",
        "   \n",
        "   return x\n",
        "```\n"
      ]
    },
    {
      "cell_type": "markdown",
      "metadata": {
        "id": "He3MWn3h9TIn"
      },
      "source": [
        "---\n",
        "---\n",
        "\n",
        "**Below each programming exercise are some tests (`assertions`) that verify your code is working correctly.  If any assertions fail, you know that something isnt' right with your code, but having all assertions pass doesn't necessarily mean your code is perfect, yet. You should also create your own tests to make sure your code is correct.**\n",
        "\n",
        "**For now, please don't change any function names**"
      ]
    },
    {
      "cell_type": "markdown",
      "metadata": {
        "id": "qetRgHOt9TIn"
      },
      "source": [
        "### 15.1 Create a sorted list of names\n",
        "\n",
        "Take the list of names below (some are first and last, others are first, middle, and last) and produce a final list of full names.\n",
        "\n",
        "```\n",
        "sort_names([\n",
        "  ['Adam', 'Doyle'],\n",
        "  ['Kermit','the','Frog'],\n",
        "  ['Donald','Duck']])\n",
        "\n",
        "['Adam Doyle', 'Donald Duck', 'Kermit the Frog']\n",
        "```"
      ]
    },
    {
      "cell_type": "markdown",
      "metadata": {
        "id": "XxLU7xU39TIo"
      },
      "source": [
        "**Tip:** If you have a list of lists and want to sort it, Python can do that. It will simply sort using the first item in each of the lists inside your list."
      ]
    },
    {
      "cell_type": "code",
      "execution_count": 42,
      "metadata": {
        "id": "usKx5Crm9TIo"
      },
      "outputs": [],
      "source": [
        "names = [['Adam', 'Doyle'],\n",
        "  ['Kermit','Frog'],\n",
        "  ['Donald','Duck']]"
      ]
    },
    {
      "cell_type": "code",
      "execution_count": 43,
      "metadata": {
        "id": "AB0MXOuD9TIp"
      },
      "outputs": [],
      "source": [
        "def name_sorter(name_list):\n",
        "    # Do something\n",
        "    full_names = []\n",
        "\n",
        "    for first, last in name_list:\n",
        "      if not (first == 'Kermit' and last == 'Frog'):\n",
        "        full_names.append(f\"{first} {last}\")\n",
        "\n",
        "    #Kermit the Frog\n",
        "    for first, last in name_list:\n",
        "       if first == 'Kermit' and last == 'Frog':\n",
        "         full_names.append(f'{first} the {last}')\n",
        "\n",
        "    return full_names"
      ]
    },
    {
      "cell_type": "code",
      "execution_count": 44,
      "metadata": {
        "id": "DIWnCCk89TIq"
      },
      "outputs": [],
      "source": [
        "names = [['Adam', 'Doyle'],\n",
        "  ['Kermit','Frog'],\n",
        "  ['Donald','Duck']]\n",
        "\n",
        "assert name_sorter(names) == [\"Adam Doyle\", \"Donald Duck\", \"Kermit the Frog\"]"
      ]
    },
    {
      "cell_type": "code",
      "source": [
        "name_sorter(names)"
      ],
      "metadata": {
        "colab": {
          "base_uri": "https://localhost:8080/"
        },
        "id": "CNS7CspU5XO3",
        "outputId": "831930a9-e38e-496a-e255-ab07ecefb427"
      },
      "execution_count": 45,
      "outputs": [
        {
          "output_type": "execute_result",
          "data": {
            "text/plain": [
              "['Adam Doyle', 'Donald Duck', 'Kermit the Frog']"
            ]
          },
          "metadata": {},
          "execution_count": 45
        }
      ]
    },
    {
      "cell_type": "markdown",
      "metadata": {
        "id": "f8bfu_b-9TIq"
      },
      "source": [
        "### 15.2 Convert a dictionary to a list\n",
        "\n",
        "In this exercise, we're going to take a dictionary that has families and their names, and convert that into a list of names.  The dictionary is structured such that the key is the family name, and the value for that key is a list of first names.\n",
        "\n",
        "```\n",
        "{\n",
        "  'Doyle': ['Adam', 'Oliver', 'Xavier'],\n",
        "  'Duck': ['Donald', 'Daisy', 'Howard'],\n",
        "  'Mouse': ['Mickey', 'Minnie', 'Mighty']\n",
        "}\n",
        "\n",
        "[['Doyle', 'Adam'],\n",
        " ['Doyle', 'Oliver'],\n",
        " ['Doyle', 'Xavier'],\n",
        " ['Duck', 'Donald'],\n",
        " ['Duck', 'Daisy'],\n",
        " ...\n",
        "```"
      ]
    },
    {
      "cell_type": "code",
      "execution_count": null,
      "metadata": {
        "id": "DdqVebBQ9TIq"
      },
      "outputs": [],
      "source": []
    },
    {
      "cell_type": "code",
      "execution_count": 46,
      "metadata": {
        "id": "xZmdk3Gw9TIq"
      },
      "outputs": [],
      "source": [
        "def dict_to_list(families):\n",
        "    # Do something\n",
        "    list_families = []\n",
        "    for family, names in families.items():\n",
        "      for name in names:\n",
        "        list_families.append([family, name])\n",
        "    return list_families"
      ]
    },
    {
      "cell_type": "code",
      "execution_count": 47,
      "metadata": {
        "id": "pptFG8P99TIr",
        "colab": {
          "base_uri": "https://localhost:8080/"
        },
        "outputId": "e459c2d2-ce33-4f12-a440-43ca56cad930"
      },
      "outputs": [
        {
          "output_type": "execute_result",
          "data": {
            "text/plain": [
              "[['Duck', 'Hewey'],\n",
              " ['Duck', 'Dewey'],\n",
              " ['Duck', 'Louie'],\n",
              " ['Mouse', 'Mickey'],\n",
              " ['Mouse', 'Minney']]"
            ]
          },
          "metadata": {},
          "execution_count": 47
        }
      ],
      "source": [
        "families = {\n",
        "  'Doyle': ['Adam', 'Oliver', 'Xavier'],\n",
        "  'Duck': ['Donald', 'Daisy', 'Howard'],\n",
        "  'Mouse': ['Mickey', 'Minnie', 'Mighty']\n",
        "}\n",
        "\n",
        "dict_to_list({'Duck': ['Hewey','Dewey','Louie'],\n",
        "              'Mouse': ['Mickey','Minney']})"
      ]
    },
    {
      "cell_type": "markdown",
      "metadata": {
        "nbgrader": {
          "grade": false,
          "grade_id": "average",
          "locked": true,
          "schema_version": 1,
          "solution": false
        },
        "id": "zH-RgaOL9TIr"
      },
      "source": [
        "### 20.3 Convert a list to a dictionary\n",
        "\n",
        "Take the list of lists below and convert it into a dictionary where the entries in the dictionary are keyed off of whatever values are in column 0, and the dictionary values are the list of all the values that appear with that key from the input list."
      ]
    },
    {
      "cell_type": "code",
      "execution_count": 48,
      "metadata": {
        "nbgrader": {
          "grade": false,
          "grade_id": "average-answer",
          "locked": false,
          "schema_version": 1,
          "solution": true
        },
        "id": "Nm3K-feL9TIr"
      },
      "outputs": [],
      "source": [
        "def list_to_dict():\n",
        "\n",
        "    names = [['Doyle', 'Adam'],\n",
        " ['Doyle', 'Oliver'],\n",
        " ['Doyle', 'Xavier'],\n",
        " ['Duck', 'Donald'],\n",
        " ['Duck', 'Daisy'],\n",
        " ['Mouse', 'Mickey'],\n",
        " ['Mouse', 'Minnie'],\n",
        " ['Mouse', 'Mighty']\n",
        " ]\n",
        "\n",
        "    # To help you, I've provided a blank dictionary named `families`.\n",
        "    families = {}\n",
        "\n",
        "    # Your code should loop through `names` and do something to build\n",
        "    # up `families` to be the output dictionary shown in the test\n",
        "    # cells below.\n",
        "\n",
        "    # Put your solution here\n",
        "\n",
        "    for name in names:\n",
        "      family_name = name[0]\n",
        "      first_name = name[1]\n",
        "      if family_name not in families:\n",
        "       families[family_name] = [first_name]\n",
        "      else:\n",
        "        families[family_name].append(first_name)\n",
        "\n",
        "    return families\n"
      ]
    },
    {
      "cell_type": "code",
      "execution_count": 49,
      "metadata": {
        "id": "6Gadi3Xq9TIr",
        "colab": {
          "base_uri": "https://localhost:8080/"
        },
        "outputId": "dff4a69c-e922-4527-f1ff-5187951ce5cb"
      },
      "outputs": [
        {
          "output_type": "execute_result",
          "data": {
            "text/plain": [
              "{'Doyle': ['Adam', 'Oliver', 'Xavier'],\n",
              " 'Duck': ['Donald', 'Daisy'],\n",
              " 'Mouse': ['Mickey', 'Minnie', 'Mighty']}"
            ]
          },
          "metadata": {},
          "execution_count": 49
        }
      ],
      "source": [
        "list_to_dict()"
      ]
    },
    {
      "cell_type": "code",
      "execution_count": 50,
      "metadata": {
        "nbgrader": {
          "grade": true,
          "grade_id": "average-tests",
          "locked": true,
          "points": 5,
          "schema_version": 1,
          "solution": false
        },
        "id": "bf3QY_TT9TIr"
      },
      "outputs": [],
      "source": [
        "answer = {\n",
        " 'Doyle':    ['Adam', 'Oliver', 'Xavier'],\n",
        " 'Duck':    ['Donald', 'Daisy'],\n",
        " 'Mouse':   ['Mickey', 'Minnie', 'Mighty']\n",
        "}\n",
        "\n",
        "assert (list_to_dict() == answer)"
      ]
    },
    {
      "cell_type": "markdown",
      "metadata": {
        "id": "tXMsv9si9TIr"
      },
      "source": [
        "### 20.4 Join using a dictionary\n",
        "\n",
        "We have a list of patients, diagnosis, and length of stay.  We also have a dictionary that contains diagnosis and average length of stay.  Produce an output list that lists the patient and an indicator if the patient's stay was 'too long', 'too short', 'just right'"
      ]
    },
    {
      "cell_type": "code",
      "execution_count": 51,
      "metadata": {
        "nbgrader": {
          "grade": false,
          "grade_id": "cell-f3813e33810dc898",
          "locked": false,
          "schema_version": 1,
          "solution": true
        },
        "id": "1i4wL9MN9TIr"
      },
      "outputs": [],
      "source": [
        "def patient_los(avg_los, patients):\n",
        "\n",
        "    conclusions = []\n",
        "    # Put your solution here\n",
        "    for patient in patients:\n",
        "      last_name = patient[0]\n",
        "      condition = patient[1]\n",
        "      stay_length = patient[2]\n",
        "      average_length = avg_los.get(condition)\n",
        "      if stay_length < average_length:\n",
        "        conclusion = \"too short\"\n",
        "      elif stay_length == average_length:\n",
        "        conclusion = \"just right\"\n",
        "      else:\n",
        "        conclusion = \"too long\"\n",
        "      conclusions.append([last_name, conclusion])\n",
        "    return conclusions"
      ]
    },
    {
      "cell_type": "code",
      "execution_count": 52,
      "metadata": {
        "id": "hPO9ApdY9TIr",
        "colab": {
          "base_uri": "https://localhost:8080/"
        },
        "outputId": "37417659-32da-4aa5-cc5f-f894d36b049a"
      },
      "outputs": [
        {
          "output_type": "execute_result",
          "data": {
            "text/plain": [
              "[['Doyle', 'too short'],\n",
              " ['Doyle', 'too long'],\n",
              " ['Jones', 'just right'],\n",
              " ['Ashbury', 'too short']]"
            ]
          },
          "metadata": {},
          "execution_count": 52
        }
      ],
      "source": [
        "avg_los = {\n",
        "    \"Hemolytic jaundice and perinatal jaundice\" : 2,\n",
        "    \"Medical examination/evaluation\" : 3.2,\n",
        "    \"Liveborn\" : 3.2,\n",
        "    \"Trauma to perineum and vulva\" : 2.1,\n",
        "    \"Normal pregnancy and/or delivery\" : 2,\n",
        "    \"Umbilical cord complication\" : 2.1,\n",
        "    \"Forceps delivery\" : 2.2,\n",
        "    \"Administrative/social admission\" : 4.2,\n",
        "    \"Prolonged pregnancy\" : 2.4,\n",
        "    \"Other complications of pregnancy\" : 2.5\n",
        "}\n",
        "\n",
        "patients = [\n",
        "    ['Doyle', 'Medical examination/evaluation', 1.1],\n",
        "    ['Doyle', 'Other complications of pregnancy', 3.3],\n",
        "    ['Jones', 'Liveborn', 3.2],\n",
        "    ['Ashbury', 'Forceps delivery', 2.0]\n",
        "]\n",
        "\n",
        "patient_los(avg_los, patients)"
      ]
    },
    {
      "cell_type": "code",
      "execution_count": 53,
      "metadata": {
        "nbgrader": {
          "grade": true,
          "grade_id": "cell-2af0a520bb56ee21",
          "locked": true,
          "points": 10,
          "schema_version": 1,
          "solution": false
        },
        "id": "PMRww9Wd9TIr"
      },
      "outputs": [],
      "source": [
        "conclusions = [['Doyle', 'too short'],\n",
        "    ['Doyle', 'too long'],\n",
        "    ['Jones', 'just right'],\n",
        "    ['Ashbury', 'too short']]\n",
        "\n",
        "assert(patient_los(avg_los, patients) == conclusions)"
      ]
    },
    {
      "cell_type": "code",
      "execution_count": 54,
      "metadata": {
        "id": "WrFohixu9TIs",
        "colab": {
          "base_uri": "https://localhost:8080/"
        },
        "outputId": "46da3682-b628-458e-a358-8a8a8eb73da5"
      },
      "outputs": [
        {
          "output_type": "execute_result",
          "data": {
            "text/plain": [
              "[['Doyle', 'too short'],\n",
              " ['Doyle', 'too long'],\n",
              " ['Jones', 'just right'],\n",
              " ['Ashbury', 'too short']]"
            ]
          },
          "metadata": {},
          "execution_count": 54
        }
      ],
      "source": [
        "patient_los(avg_los, patients)"
      ]
    },
    {
      "cell_type": "markdown",
      "metadata": {
        "id": "WIok1kb99TIs"
      },
      "source": [
        "---\n",
        "\n",
        "## Check your work above\n",
        "\n",
        "If you didn't get them all correct, take a few minutes to think through those that aren't correct.\n",
        "\n",
        "\n",
        "## Submitting Your Work\n",
        "\n",
        "In order to submit your work, you'll need to save this notebook file back to GitHub.  To do that in Google Colab:\n",
        "1. File -> Save a Copy in GitHub\n",
        "2. Make sure your HDS5210 repository is selected\n",
        "3. Make sure the file name includes the week number like this: `week04/week04_assignment_2.ipynb`\n",
        "4. Add a commit message that means something\n",
        "\n",
        "**Be sure week names are lowercase and use a two digit week number!!**\n",
        "\n",
        "**Be sure you use the same file name provided by the instructor!!**\n",
        "\n"
      ]
    },
    {
      "cell_type": "markdown",
      "metadata": {
        "id": "lTZfrokV9TIs"
      },
      "source": []
    }
  ],
  "metadata": {
    "celltoolbar": "Create Assignment",
    "kernelspec": {
      "display_name": "Python 3",
      "language": "python",
      "name": "python3"
    },
    "language_info": {
      "codemirror_mode": {
        "name": "ipython",
        "version": 3
      },
      "file_extension": ".py",
      "mimetype": "text/x-python",
      "name": "python",
      "nbconvert_exporter": "python",
      "pygments_lexer": "ipython3",
      "version": "3.6.7"
    },
    "colab": {
      "provenance": [],
      "include_colab_link": true
    }
  },
  "nbformat": 4,
  "nbformat_minor": 0
}