{
  "cells": [
    {
      "cell_type": "markdown",
      "metadata": {
        "id": "view-in-github",
        "colab_type": "text"
      },
      "source": [
        "<a href=\"https://colab.research.google.com/github/anacarmona1/HDS-5210-Ana/blob/main/week06_assignment_2.ipynb\" target=\"_parent\"><img src=\"https://colab.research.google.com/assets/colab-badge.svg\" alt=\"Open In Colab\"/></a>"
      ]
    },
    {
      "cell_type": "markdown",
      "metadata": {
        "id": "mYdHNNci_HkW"
      },
      "source": [
        "# Week 6 Exercises\n",
        "\n",
        "_McKinney 6.1_\n",
        "\n",
        "There are multiple ways to solve the problems below.  You can use any one of several approaches.  For example, you can read CSV files using Pandas or the csv module.  Your score won't depend on which modules you choose to use unless explicitly noted below, but your programming style will still matter."
      ]
    },
    {
      "cell_type": "markdown",
      "metadata": {
        "id": "i0fp69DP_HkY"
      },
      "source": [
        "### 30.1 List of Allergies\n",
        "\n",
        "In the /data directory on the Jupyter server, there is a file called `allergies.json` that contains a list of patient allergies.  It is taken from sample data provided by the EHR vendor, Epic, here: https://open.epic.com/Clinical/Allergy\n",
        "\n",
        "Take some time to look at the structure of the file.  You can open it directly in Jupyter by clicking the _Home_ icon, then the _from_instructor_ folder, and then the _data_ folder.\n",
        "\n",
        "Within the file, you'll see that it is a dictionary with many items in it.  One of those items is called `entry` and that item is a list of things.  You can tell that because the item name is immediately followed by an opening square bracket, signifying the start of a list.  It's line 11 of the file: `  \"entry\": [`\n",
        "\n",
        "Write a function named `allergy_count(json_file)` that takes as one parameter the name of the JSON file and returns an integer number of entries in that file.  Your function should open the file, read the json into a Python object, and return how many items there are in the list of `entry`s."
      ]
    },
    {
      "cell_type": "code",
      "execution_count": 249,
      "metadata": {
        "id": "sHsrM1gl_HkZ"
      },
      "outputs": [],
      "source": [
        "import json\n",
        "ALLERGIES_FILE=\"allergies.json\""
      ]
    },
    {
      "cell_type": "code",
      "execution_count": 250,
      "metadata": {
        "id": "HWuZTt1f_Hka"
      },
      "outputs": [],
      "source": [
        "# Put your solution here\n",
        "def allergy_count(allergies_json):\n",
        "  with open(allergies_json) as f:\n",
        "    data = json.load(f)\n",
        "  return len(data['entry'])\n"
      ]
    },
    {
      "cell_type": "code",
      "execution_count": 251,
      "metadata": {
        "colab": {
          "base_uri": "https://localhost:8080/"
        },
        "id": "8e581a5d_Hka",
        "outputId": "a1ebf342-0a9d-4d79-cba2-e341a39cce8c"
      },
      "outputs": [
        {
          "output_type": "execute_result",
          "data": {
            "text/plain": [
              "4"
            ]
          },
          "metadata": {},
          "execution_count": 251
        }
      ],
      "source": [
        "allergy_count(ALLERGIES_FILE)"
      ]
    },
    {
      "cell_type": "code",
      "execution_count": 252,
      "metadata": {
        "id": "yj7zZJmM_Hka"
      },
      "outputs": [],
      "source": [
        "assert type(allergy_count(ALLERGIES_FILE)) == int\n",
        "assert allergy_count(ALLERGIES_FILE) == 4"
      ]
    },
    {
      "cell_type": "markdown",
      "metadata": {
        "id": "SVF6LawR_Hka"
      },
      "source": [
        "### 30.2 Number of Patients\n",
        "\n",
        "If you dig a little bit deaper into this list of allergies, you'll see that each result has a patient associated with it.  Create a funcation called `patient_count(json_file)` that will count how many unique patients we have in this JSON structure.  "
      ]
    },
    {
      "cell_type": "code",
      "execution_count": 253,
      "metadata": {
        "id": "IGU9Eutf_Hkb"
      },
      "outputs": [],
      "source": [
        "# Put your solution here\n",
        "import json\n",
        "ALLERGIES_FILE=\"allergies.json\"\n",
        "def patient_count(allergies_json):\n",
        "  \"\"\" this function returns the number of unique patients in the JSON file, it uses a set instead of a list considering that\n",
        "  some patients can have more than one allergy and therefore have multiple entries in the JSON file.\n",
        "  \"\"\"\n",
        "  with open(allergies_json) as f:\n",
        "    data = json.load(f)\n",
        "    patients = set()\n",
        "    for entry in data[\"entry\"]:\n",
        "        patients.add(entry [\"resource\"][\"patient\"][\"display\"])\n",
        "    return len(patients)"
      ]
    },
    {
      "cell_type": "code",
      "execution_count": 254,
      "metadata": {
        "colab": {
          "base_uri": "https://localhost:8080/"
        },
        "id": "QOv8Icvd_Hkb",
        "outputId": "23ab65a8-7c1e-48b1-daf6-fb9c1ab6d67e"
      },
      "outputs": [
        {
          "output_type": "execute_result",
          "data": {
            "text/plain": [
              "2"
            ]
          },
          "metadata": {},
          "execution_count": 254
        }
      ],
      "source": [
        "patient_count(ALLERGIES_FILE)"
      ]
    },
    {
      "cell_type": "code",
      "execution_count": 255,
      "metadata": {
        "id": "I_UP6nxH_Hkb"
      },
      "outputs": [],
      "source": [
        "assert type(patient_count(ALLERGIES_FILE)) == int\n",
        "assert patient_count(ALLERGIES_FILE) == 2"
      ]
    },
    {
      "cell_type": "markdown",
      "metadata": {
        "id": "LojLipFM_Hkb"
      },
      "source": [
        "### 30.3 How Many Allergies per Patient\n",
        "\n",
        "Although each entry is a separate allergy, several of them are for the same patient.  Write a function called `allergy_per_patient(json_file)` that counts up how many allergies each patient has.\n"
      ]
    },
    {
      "cell_type": "code",
      "execution_count": 256,
      "metadata": {
        "id": "3sX5ft49_Hkb"
      },
      "outputs": [],
      "source": [
        "# Put your solution here\n",
        "import doctest\n",
        "def allergy_per_patient(allergies_json):\n",
        "  \"\"\" This function returns a dictionary with the name of each patient and the number of allergies they have.\n",
        "  >>> allergy_per_patient(ALLERGIES_FILE)\n",
        "  {'Jason Argonaut': 3, 'Paul Boal': 1}\n",
        "  \"\"\"\n",
        "  with open(allergies_json) as f:\n",
        "    data = json.load(f)\n",
        "    patients = {}\n",
        "    for entry in data[\"entry\"]:\n",
        "      patient = entry[\"resource\"][\"patient\"][\"display\"]\n",
        "      if patient not in patients:\n",
        "        patients[patient] = 1\n",
        "      else:\n",
        "          patients[patient] += 1\n",
        "    return patients\n",
        "\n"
      ]
    },
    {
      "cell_type": "code",
      "execution_count": 257,
      "metadata": {
        "colab": {
          "base_uri": "https://localhost:8080/"
        },
        "id": "dXH0GfvX_Hkc",
        "outputId": "d23ebc77-9b16-4823-fd54-8d47832d3f4c"
      },
      "outputs": [
        {
          "output_type": "execute_result",
          "data": {
            "text/plain": [
              "{'Jason Argonaut': 3, 'Paul Boal': 1}"
            ]
          },
          "metadata": {},
          "execution_count": 257
        }
      ],
      "source": [
        "allergy_per_patient(ALLERGIES_FILE)"
      ]
    },
    {
      "cell_type": "code",
      "execution_count": 258,
      "metadata": {
        "id": "0ck6Q6y5_Hkc"
      },
      "outputs": [],
      "source": [
        "assert type(allergy_per_patient(ALLERGIES_FILE)) == dict\n",
        "assert allergy_per_patient(ALLERGIES_FILE) == {'Paul Boal': 1, 'Jason Argonaut': 3}"
      ]
    },
    {
      "cell_type": "code",
      "execution_count": 259,
      "metadata": {
        "colab": {
          "base_uri": "https://localhost:8080/"
        },
        "id": "l6iiIJFSQFEj",
        "outputId": "297922c2-61c8-478f-e7fa-8356e7aeff49"
      },
      "outputs": [
        {
          "output_type": "stream",
          "name": "stdout",
          "text": [
            "Finding tests in NoName\n",
            "Trying:\n",
            "    allergy_per_patient(ALLERGIES_FILE)\n",
            "Expecting:\n",
            "    {'Jason Argonaut': 3, 'Paul Boal': 1}\n",
            "ok\n"
          ]
        }
      ],
      "source": [
        "doctest.run_docstring_examples(allergy_per_patient, globals(), verbose = True)"
      ]
    },
    {
      "cell_type": "markdown",
      "metadata": {
        "id": "q18psCFw_Hkc"
      },
      "source": [
        "### 30.4 Patient Allergies and Reaction\n",
        "\n",
        "You'll see in the file that each of the items in the `entry` list have several other attributes including a patient name, substance text representation, and a reaction manifestation.  Create a function named `allergy_list(json_file)` that will create an output list that has patient name, allergy, and reaction for each `entry`.  The actual result you should get will be:\n",
        "\n",
        "```python\n",
        "[['Jason Argonaut', 'PENICILLIN G', 'Hives'],\n",
        " ['Paul Boal', 'PENICILLIN G', 'Bruising'],\n",
        " ['Jason Argonaut', 'SHELLFISH-DERIVED PRODUCTS', 'Itching'],\n",
        " ['Jason Argonaut', 'STRAWBERRY', 'Anaphylaxis']]\n",
        "```\n",
        "\n",
        "You'll notice that the reaction and the manifestation of that action are lists.  You only need to capture the first reaction and the first manifestation of the action.  That is, if there is a list of things, just output the first one."
      ]
    },
    {
      "cell_type": "code",
      "execution_count": 260,
      "metadata": {
        "id": "re7adrhc_Hkc"
      },
      "outputs": [],
      "source": [
        "# Put your solution here\n",
        "import json\n",
        "ALLERGIES_FILE =\"allergies.json\"\n",
        "\n",
        "def allergy_list(allergies_json):\n",
        "  \"\"\" this function returns a list of lists with the name of the patient, the substance and the reaction.\n",
        "\n",
        "  \"\"\"\n",
        "\n",
        "  with open(allergies_json) as f:\n",
        "   data = json.load(f)\n",
        "   allergy_list = []\n",
        "  for entry in data[\"entry\"]:\n",
        "     patient = entry[\"resource\"][\"patient\"][\"display\"]\n",
        "     substance = entry[\"resource\"][\"substance\"][\"text\"]\n",
        "     reaction  = entry[\"resource\"][\"reaction\"][0][\"manifestation\"][0][\"text\"]\n",
        "     allergy_list.append([patient, substance, reaction])\n",
        "  return sorted(allergy_list)\n",
        "\n"
      ]
    },
    {
      "cell_type": "code",
      "execution_count": 261,
      "metadata": {
        "colab": {
          "base_uri": "https://localhost:8080/"
        },
        "id": "KeBW38vn_Hkc",
        "outputId": "6441cb86-0c1c-4488-c025-47b62860a4a1"
      },
      "outputs": [
        {
          "output_type": "execute_result",
          "data": {
            "text/plain": [
              "[['Jason Argonaut', 'PENICILLIN G', 'Hives'],\n",
              " ['Jason Argonaut', 'SHELLFISH-DERIVED PRODUCTS', 'Itching'],\n",
              " ['Jason Argonaut', 'STRAWBERRY', 'Anaphylaxis'],\n",
              " ['Paul Boal', 'PENICILLIN G', 'Bruising']]"
            ]
          },
          "metadata": {},
          "execution_count": 261
        }
      ],
      "source": [
        "allergy_list(ALLERGIES_FILE)"
      ]
    },
    {
      "cell_type": "code",
      "execution_count": 262,
      "metadata": {
        "id": "2FWTHQRk_Hkc"
      },
      "outputs": [],
      "source": [
        "assert allergy_list(ALLERGIES_FILE) == [['Jason Argonaut', 'PENICILLIN G', 'Hives'],\n",
        " ['Jason Argonaut', 'SHELLFISH-DERIVED PRODUCTS', 'Itching'],\n",
        " ['Jason Argonaut', 'STRAWBERRY', 'Anaphylaxis'],\n",
        " ['Paul Boal', 'PENICILLIN G', 'Bruising']]\n"
      ]
    },
    {
      "cell_type": "markdown",
      "metadata": {
        "id": "HThhuduV_Hkc"
      },
      "source": [
        "### 30.5 Allergy Reaction\n",
        "\n",
        "Write a function called `allergy_reaction(json_file,patient,substance)` that takes three parameter and returns the reaction that will happen if the patient takes the specified substance.  You can solve this, in part, by calling your `allergy_list` function inside your new `allergy_reaction` function.\n",
        "\n",
        "If the substance is not found in the allergy list, the function should return None."
      ]
    },
    {
      "cell_type": "code",
      "execution_count": 263,
      "metadata": {
        "id": "UJY-jhKX_Hkc"
      },
      "outputs": [],
      "source": [
        "# Put your solution here\n",
        "import json\n",
        "def allergy_reaction(allergies_json, patient, substance):\n",
        "  \"\"\" this function returns the reaction that will happen if the patient takes the specified substance.\n",
        "  >>> allergy_reaction(ALLERGIES_FILE, 'Jason Argonaut', 'PENICILLIN G')\n",
        "  'Hives'\n",
        "  >>> allergy_reaction(ALLERGIES_FILE, 'Jason Argonaut', 'STRAWBERRY')\n",
        "  'Anaphylaxis'\n",
        "\n",
        "  \"\"\"\n",
        "  with open(allergies_json) as f:\n",
        "    data = json.load(f)\n",
        "    for entry in allergy_list(allergies_json):\n",
        "      if entry[0] == patient and entry [1] == substance:\n",
        "        return entry[2]\n",
        "\n",
        "  return None\n",
        "\n",
        "import doctest\n"
      ]
    },
    {
      "cell_type": "code",
      "execution_count": 264,
      "metadata": {
        "colab": {
          "base_uri": "https://localhost:8080/",
          "height": 36
        },
        "id": "SvYKNVRE_Hkc",
        "outputId": "4802f0c9-8b9b-40b4-b0a7-49d12d1a2db8"
      },
      "outputs": [
        {
          "output_type": "execute_result",
          "data": {
            "text/plain": [
              "'Hives'"
            ],
            "application/vnd.google.colaboratory.intrinsic+json": {
              "type": "string"
            }
          },
          "metadata": {},
          "execution_count": 264
        }
      ],
      "source": [
        "allergy_reaction(ALLERGIES_FILE, 'Jason Argonaut', 'PENICILLIN G')"
      ]
    },
    {
      "cell_type": "code",
      "execution_count": 265,
      "metadata": {
        "id": "9NvUexK7_Hkc"
      },
      "outputs": [],
      "source": [
        "assert allergy_reaction(ALLERGIES_FILE, 'Jason Argonaut', 'PENICILLIN G') == 'Hives'\n",
        "assert allergy_reaction(ALLERGIES_FILE, 'Jason Argonaut', 'SHELLFISH-DERIVED PRODUCTS') == 'Itching'\n",
        "assert allergy_reaction(ALLERGIES_FILE, 'Jason Argonaut', 'STRAWBERRY') == 'Anaphylaxis'\n",
        "assert allergy_reaction(ALLERGIES_FILE, 'Jason Argonaut', 'PENICILLIN') == None\n",
        "assert allergy_reaction(ALLERGIES_FILE, 'Paul Boal', 'PENICILLIN G') == 'Bruising'"
      ]
    },
    {
      "cell_type": "code",
      "execution_count": 266,
      "metadata": {
        "colab": {
          "base_uri": "https://localhost:8080/"
        },
        "id": "9qO896fNck1X",
        "outputId": "610e53d9-a64b-43f2-99d2-0b50489e32b3"
      },
      "outputs": [
        {
          "output_type": "stream",
          "name": "stdout",
          "text": [
            "Finding tests in NoName\n",
            "Trying:\n",
            "    allergy_reaction(ALLERGIES_FILE, 'Jason Argonaut', 'PENICILLIN G')\n",
            "Expecting:\n",
            "    'Hives'\n",
            "ok\n",
            "Trying:\n",
            "    allergy_reaction(ALLERGIES_FILE, 'Jason Argonaut', 'STRAWBERRY')\n",
            "Expecting:\n",
            "    'Anaphylaxis'\n",
            "ok\n"
          ]
        }
      ],
      "source": [
        "doctest.run_docstring_examples(allergy_reaction, globals(), verbose = True)"
      ]
    },
    {
      "cell_type": "markdown",
      "metadata": {
        "id": "L532WGM8_Hkc"
      },
      "source": [
        "---\n",
        "\n",
        "## Check your work above\n",
        "\n",
        "If you didn't get them all correct, take a few minutes to think through those that aren't correct.\n",
        "\n",
        "\n",
        "## Submitting Your Work\n",
        "\n",
        "In order to submit your work, you'll need to save this notebook file back to GitHub.  To do that in Google Colab:\n",
        "1. File -> Save a Copy in GitHub\n",
        "2. Make sure your HDS5210 repository is selected\n",
        "3. Make sure the file name includes the week number like this: `week06/week06_assignment_2.ipynb`\n",
        "4. Add a commit message that means something\n",
        "\n",
        "**Be sure week names are lowercase and use a two digit week number!!**\n",
        "\n",
        "**Be sure you use the same file name provided by the instructor!!**\n",
        "\n"
      ]
    }
  ],
  "metadata": {
    "celltoolbar": "Create Assignment",
    "colab": {
      "provenance": [],
      "include_colab_link": true
    },
    "kernelspec": {
      "display_name": "Python 3",
      "language": "python",
      "name": "python3"
    },
    "language_info": {
      "codemirror_mode": {
        "name": "ipython",
        "version": 3
      },
      "file_extension": ".py",
      "mimetype": "text/x-python",
      "name": "python",
      "nbconvert_exporter": "python",
      "pygments_lexer": "ipython3",
      "version": "3.9.16"
    }
  },
  "nbformat": 4,
  "nbformat_minor": 0
}