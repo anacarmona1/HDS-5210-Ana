{
  "cells": [
    {
      "cell_type": "markdown",
      "metadata": {
        "id": "view-in-github",
        "colab_type": "text"
      },
      "source": [
        "<a href=\"https://colab.research.google.com/github/anacarmona1/HDS-5210-Ana/blob/main/midterm_2.ipynb\" target=\"_parent\"><img src=\"https://colab.research.google.com/assets/colab-badge.svg\" alt=\"Open In Colab\"/></a>"
      ]
    },
    {
      "cell_type": "markdown",
      "metadata": {
        "id": "8OKGKTrm3C6D"
      },
      "source": [
        "### Mid-term for HDS5210\n",
        "\n",
        "Your supervisor is concerned about 4-year survival risks for COPD. She has asked for you to do some analysis using a new metric, BODE. BODE is an improvement on a previous metric and promises to provide insight on survival risks.\n",
        "\n",
        "BODE is defined here. https://www.mdcalc.com/calc/3916/bode-index-copd-survival#evidence\n",
        "\n",
        "Your assignment is to create a BODE calculation, use it to calculate BODE scores and BODE survival rates for a group of patients. Then we want to evaluate the average BODE scores and BODE survival rates for each area hospital.\n",
        "\n",
        "Your patient input file will have the following columns:\n",
        "NAME,SSN,LANGUAGE,JOB,HEIGHT_M,WEIGHT_KG,fev_pct,dyspnea_description,distance_in_meters,hospital\n",
        "\n",
        "BODE calculations require a BMI value, so you will have to create a function for it.\n",
        "\n",
        "Your output should be in the form of two CSV files, patient_output.csv and hospital_output.csv.\n",
        "\n",
        "Patient_output will have the following columns:\n",
        "NAME,BODE_SCORE,BODE_RISK,HOSPITAL\n",
        "\n",
        "Hospital output will have the following columns:\n",
        "HOSPITAL_NAME, COPD_COUNT, PCT_OF_COPD_CASES_OVER_BEDS, AVG_SCORE, AVG_RISK\n",
        "\n",
        "Each function you create should have documentation and a suitable number of test cases. If the input data could be wrong, make sure to raise a Value Error.\n",
        "\n",
        "For this assignment, use the doctest, json, and csv libraries. Pandas is not allowed for this assignment."
      ]
    },
    {
      "cell_type": "code",
      "execution_count": 46,
      "metadata": {
        "id": "zM_7j4m93C6F"
      },
      "outputs": [],
      "source": [
        "import doctest\n",
        "import json\n",
        "import csv"
      ]
    },
    {
      "cell_type": "markdown",
      "metadata": {
        "id": "-2SaeOAv3C6G"
      },
      "source": [
        "### Step 1: Calculate BMI"
      ]
    },
    {
      "cell_type": "code",
      "execution_count": 47,
      "metadata": {
        "id": "bLGbnIkE3C6G"
      },
      "outputs": [],
      "source": [
        "\n",
        "def bmi(weight_kg, height_m):\n",
        "  \"\"\" This function calculates BMI using the following formula:\n",
        "Weight (kg) / height (m) ** 2\n",
        ">>> round(bmi(90.7, 1.82), 2)\n",
        "27.38\n",
        ">>> round(bmi(91, 1.80), 2)\n",
        "28.09\n",
        ">>> round(bmi(70, 1.70), 2)\n",
        "24.22\n",
        ">>> round(bmi(50, 1.66), 2)\n",
        "18.14\n",
        "\"\"\"\n",
        "  if weight_kg <= 0 or height_m <= 0:\n",
        "    raise ValueError(\"Weight and Height must be greater than 0\")\n",
        "  bmi = weight_kg / height_m ** 2\n",
        "  return bmi"
      ]
    },
    {
      "cell_type": "code",
      "source": [
        "doctest.run_docstring_examples(bmi, globals(), verbose = True)"
      ],
      "metadata": {
        "colab": {
          "base_uri": "https://localhost:8080/"
        },
        "id": "7iaryehhWSP5",
        "outputId": "c579d5ea-a47f-416d-9f1e-6ce66f5d5c8e"
      },
      "execution_count": 48,
      "outputs": [
        {
          "output_type": "stream",
          "name": "stdout",
          "text": [
            "Finding tests in NoName\n",
            "Trying:\n",
            "    round(bmi(90.7, 1.82), 2)\n",
            "Expecting:\n",
            "    27.38\n",
            "ok\n",
            "Trying:\n",
            "    round(bmi(91, 1.80), 2)\n",
            "Expecting:\n",
            "    28.09\n",
            "ok\n",
            "Trying:\n",
            "    round(bmi(70, 1.70), 2)\n",
            "Expecting:\n",
            "    24.22\n",
            "ok\n",
            "Trying:\n",
            "    round(bmi(50, 1.66), 2)\n",
            "Expecting:\n",
            "    18.14\n",
            "ok\n"
          ]
        }
      ]
    },
    {
      "cell_type": "code",
      "source": [
        "assert round(bmi(90.7, 1.82), 2) == 27.38\n",
        "assert round(bmi(91, 1.80), 2) == 28.09\n",
        "assert round(bmi(70, 1.70), 2) == 24.22\n",
        "assert round(bmi(50, 1.66), 2) == 18.14"
      ],
      "metadata": {
        "id": "Rw2FEqUdV3uA"
      },
      "execution_count": 49,
      "outputs": []
    },
    {
      "cell_type": "markdown",
      "metadata": {
        "id": "6p4NCEMb3C6G"
      },
      "source": [
        "### Step 2: Calculate BODE Score"
      ]
    },
    {
      "cell_type": "code",
      "execution_count": 54,
      "metadata": {
        "id": "bXP9yjr_3C6G"
      },
      "outputs": [],
      "source": [
        "def bode_score(fev1, walk_distance_6min, mmcr_dyspnea, bmi):\n",
        "\n",
        "  \"\"\" This formula calculates the BODE score based on the folllowing parameters:\n",
        "  FEV1 (% predicted)  => 65 = 0 points\n",
        "  ..................  > 50-64 = 1 point\n",
        "  ..................  > 36-49 = 2 points\n",
        "  ..................  <= 35 = 3 points\n",
        "  6 min walk distance =>350 = 0 points\n",
        "  ................... 250-349 = 1 point\n",
        "  ................... 150-249 = 2 points\n",
        "  ................... <= 149 = 3 points\n",
        "  mMRC Dyspnea Scale  0-1 = 0 points\n",
        "  ................... 2 = 1 point\n",
        "  ................... 3 = 2 points\n",
        "  ................... 4 = 3 points\n",
        "  BMI > 21 = 0 points\n",
        "  ... < 21 = 1 point\n",
        "  >>> bode_score(50, 250, 3, 20)\n",
        "  5\n",
        "  >>> bode_score(67, 350, 1, 23)\n",
        "  0\n",
        "  >>> bode_score(33, 120, 4, 19)\n",
        "  10\n",
        "  \"\"\"\n",
        "  if fev1 <= 0 or walk_distance_6min <= 0 or bmi <= 0: #Except mMRC Dyspnea Scale, which can be 0\n",
        "    raise ValueError(\"Parameters must be greater than 0\")\n",
        "  points = 0\n",
        "  #Calculating fev1 points\n",
        "\n",
        "  if fev1 >= 65:\n",
        "   points += 0\n",
        "  elif 50 <= fev1 < 64:\n",
        "   points += 1\n",
        "  elif 36 <=  fev1 < 49:\n",
        "   points += 2\n",
        "  elif fev1 <= 35:\n",
        "   points += 3\n",
        "\n",
        "  #Calculating 6 min walking distance points\n",
        "\n",
        "  if walk_distance_6min >= 350:\n",
        "   points += 0\n",
        "  elif 250 <= walk_distance_6min < 349:\n",
        "   points += 1\n",
        "  elif 150 <= walk_distance_6min < 249:\n",
        "   points += 2\n",
        "  elif walk_distance_6min <= 149:\n",
        "   points += 3\n",
        "\n",
        "  #Calculating mMRC points\n",
        "\n",
        "  if mmcr_dyspnea == 0-1:\n",
        "   points += 0\n",
        "  elif mmcr_dyspnea == 2:\n",
        "   points += 1\n",
        "  elif mmcr_dyspnea == 3:\n",
        "   points += 2\n",
        "  elif mmcr_dyspnea == 4:\n",
        "   points +=3\n",
        "\n",
        "#Calculating bmi points\n",
        "\n",
        "  if bmi >= 21:\n",
        "   points += 0\n",
        "  elif bmi < 21:\n",
        "   points += 1\n",
        "\n",
        "  return points\n"
      ]
    },
    {
      "cell_type": "code",
      "source": [
        "doctest.run_docstring_examples(bode_score, globals(), verbose = True )"
      ],
      "metadata": {
        "colab": {
          "base_uri": "https://localhost:8080/"
        },
        "id": "yuCCQVzlybY2",
        "outputId": "885ad1ca-966b-4bd0-db96-e061788d63b6"
      },
      "execution_count": 55,
      "outputs": [
        {
          "output_type": "stream",
          "name": "stdout",
          "text": [
            "Finding tests in NoName\n",
            "Trying:\n",
            "    bode_score(50, 250, 3, 20)\n",
            "Expecting:\n",
            "    5\n",
            "ok\n",
            "Trying:\n",
            "    bode_score(67, 350, 1, 23)\n",
            "Expecting:\n",
            "    0\n",
            "ok\n",
            "Trying:\n",
            "    bode_score(33, 120, 4, 19)\n",
            "Expecting:\n",
            "    10\n",
            "ok\n"
          ]
        }
      ]
    },
    {
      "cell_type": "code",
      "source": [
        "assert bode_score(50, 250, 3, 20) == 5\n",
        "assert bode_score(67, 350, 1, 23) == 0\n",
        "assert bode_score(33, 120, 4, 19) == 10"
      ],
      "metadata": {
        "id": "ZjEPbcyE1Kpf"
      },
      "execution_count": 56,
      "outputs": []
    },
    {
      "cell_type": "markdown",
      "metadata": {
        "id": "jT6_z6Ic3C6G"
      },
      "source": [
        "### Step 3: Calculate BODE Risk"
      ]
    },
    {
      "cell_type": "code",
      "execution_count": 57,
      "metadata": {
        "id": "vHFkQUJw3C6G"
      },
      "outputs": [],
      "source": [
        "def bode_risk(bode_score):\n",
        "  \"\"\"This function calculates the BODE risk based on the BODE score, returning the 4-year survival % depending on the BODE score obtained.\n",
        "  0-2 = 80%\n",
        "  3-4 = 64%\n",
        "  5-6 = 57%\n",
        "  7-10 = 18%\n",
        "  >>> bode_risk(5)\n",
        "  57\n",
        "  >>> bode_risk(8)\n",
        "  18\n",
        "  >>> bode_risk(0)\n",
        "  80\n",
        "  \"\"\"\n",
        "\n",
        "  if 0 <= bode_score <= 2:\n",
        "    return 80\n",
        "  elif 3 <= bode_score <= 4:\n",
        "    return 64\n",
        "  elif 5 <= bode_score <= 6:\n",
        "   return 57\n",
        "  elif 7 <= bode_score <= 10:\n",
        "    return 18\n",
        "  else:\n",
        "    raise ValueError(\"BODE score must be between 0 and 10\")\n"
      ]
    },
    {
      "cell_type": "code",
      "source": [
        "assert bode_risk(5) == 57\n",
        "assert bode_risk(8) == 18\n",
        "assert bode_risk(0) == 80"
      ],
      "metadata": {
        "id": "gqLy4KDr8slr"
      },
      "execution_count": 58,
      "outputs": []
    },
    {
      "cell_type": "code",
      "source": [
        "doctest.run_docstring_examples(bode_risk, globals(), verbose = True)"
      ],
      "metadata": {
        "colab": {
          "base_uri": "https://localhost:8080/"
        },
        "id": "5MOjbClA6ooi",
        "outputId": "2bbc6a99-e272-4b77-bcbc-4cf3c02a01e4"
      },
      "execution_count": 59,
      "outputs": [
        {
          "output_type": "stream",
          "name": "stdout",
          "text": [
            "Finding tests in NoName\n",
            "Trying:\n",
            "    bode_risk(5)\n",
            "Expecting:\n",
            "    57\n",
            "ok\n",
            "Trying:\n",
            "    bode_risk(8)\n",
            "Expecting:\n",
            "    18\n",
            "ok\n",
            "Trying:\n",
            "    bode_risk(0)\n",
            "Expecting:\n",
            "    80\n",
            "ok\n"
          ]
        }
      ]
    },
    {
      "cell_type": "markdown",
      "metadata": {
        "id": "O9xexoh93C6G"
      },
      "source": [
        "### Step 4: Load Hospital Data"
      ]
    },
    {
      "cell_type": "code",
      "execution_count": 60,
      "metadata": {
        "id": "mClpiMMV3C6H"
      },
      "outputs": [],
      "source": [
        "import json\n",
        "from pathlib import Path\n",
        "HOSPITAL_DATA = Path(\"hospitals.json\")\n",
        "with HOSPITAL_DATA.open() as h:\n",
        "    hospitals = json.load(h)\n"
      ]
    },
    {
      "cell_type": "markdown",
      "metadata": {
        "id": "YxHXEdKe3C6H"
      },
      "source": [
        "### Step 5: Main business logic\n",
        "\n",
        "Call BODE Score, BODE Risk functions for each patient.\n",
        "\n",
        "For each hospital, calculate Avg BODE score and Avg BODE risk and count the number of cases for each hospital."
      ]
    },
    {
      "cell_type": "code",
      "execution_count": 61,
      "metadata": {
        "id": "4AtNkFQQ3C6H"
      },
      "outputs": [],
      "source": [
        "patient_csv = \"patient.csv\"\n",
        "hospital_json = \"hospitals.json\"\n",
        "\n",
        "patient_output_file = \"patient_output.csv\"\n",
        "hospital_output_file = \"hospital_output.csv\"\n",
        "\n",
        "###\n",
        "# your logic here\n",
        "###\n",
        "#CSV FILE\n",
        "with open(patient_csv, newline= '') as csvfile:\n",
        " reader = csv.DictReader(csvfile)\n",
        " patient_data = [row for row in reader]\n",
        "\n",
        "patient_results = []\n",
        "\n",
        "for patient in patient_data:\n",
        "  fev1 = float(patient['fev_pct'])\n",
        "  walk_distance_6min = float(patient['distance_in_meters'])\n",
        "  mmcr_dyspnea = patient['dyspnea_description']\n",
        "  weight = float(patient['WEIGHT_KG'])\n",
        "  height = float(patient['HEIGHT_M'])\n",
        "  bmi_value = bmi(weight, height)\n",
        "\n",
        "  # Converting string values into Integers for the dyspnea description column 2\n",
        "  dyspnea_description_dict = {\"ONLY STRENUOUS EXERCISE\": 0,\n",
        "                         \"WHEN HURRYING\": 1,\n",
        "                         \"WALKING UPHILL\": 1,\n",
        "                         \"SLOWER THAN PEERS\": 2,\n",
        "                         \"STOPS WHEN WALKING AT PACE\": 2,\n",
        "                         \"STOPS AFTER A FEW MINUTES\": 3,\n",
        "                         \"STOPS AFTER 100 YARDS\": 3,\n",
        "                         \"BREATHLESS WHEN DRESSING\": 4,\n",
        "                         \"UNABLE TO LEAVE HOME\": 4,\n",
        "\n",
        "                         }\n",
        "\n",
        "  mmcr_dyspnea = dyspnea_description_dict.get(mmcr_dyspnea, 0)\n",
        "  bode_score_value = bode_score(fev1, walk_distance_6min, mmcr_dyspnea, bmi_value)\n",
        "  bode_risk_value = bode_risk(bode_score_value)\n",
        "\n",
        "  patient_results.append([patient ['NAME'], bode_score_value, bode_risk_value, patient ['hospital']])\n",
        "\n",
        "#Write Patient_output.csv\n",
        "with open(patient_output_file, 'w', newline='') as csvfile:\n",
        "    writer = csv.writer(csvfile)\n",
        "    writer.writerow(['NAME', 'BODE_SCORE','BODE_RISK', 'HOSPITAL'])\n",
        "    writer.writerows(patient_results)\n",
        "with open(hospital_json) as json_file:\n",
        "   hospital_data = json.load(json_file)\n",
        "   hospital_results = []\n",
        "   for system in hospital_data:\n",
        "    for hospital in system['hospitals']:\n",
        "      hospital_results.append([hospital['name'], system['system'], hospital.get('beds', 'Unknown')])\n",
        "#Write Hospital_output.csv\n",
        "with open(hospital_output_file, 'w', newline='') as csvfile:\n",
        "    writer = csv.writer(csvfile)\n",
        "    writer.writerows(hospital_results)"
      ]
    }
  ],
  "metadata": {
    "language_info": {
      "name": "python"
    },
    "colab": {
      "provenance": [],
      "include_colab_link": true
    },
    "kernelspec": {
      "name": "python3",
      "display_name": "Python 3"
    }
  },
  "nbformat": 4,
  "nbformat_minor": 0
}