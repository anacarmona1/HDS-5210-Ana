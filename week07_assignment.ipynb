{
  "cells": [
    {
      "cell_type": "markdown",
      "metadata": {
        "id": "view-in-github",
        "colab_type": "text"
      },
      "source": [
        "<a href=\"https://colab.research.google.com/github/anacarmona1/HDS-5210-Ana/blob/main/week07_assignment.ipynb\" target=\"_parent\"><img src=\"https://colab.research.google.com/assets/colab-badge.svg\" alt=\"Open In Colab\"/></a>"
      ]
    },
    {
      "cell_type": "markdown",
      "metadata": {
        "id": "I6H0jxh584f7"
      },
      "source": [
        "# Week 7 Assignment\n",
        "\n",
        "We've been working with different types of data structures in Python (dictionary, list, etc), how those are represented in JSON documents, and how to write code to access specific data elements. In this week's assignment, you will need to create your own JSON document to store information about yourself and the grades you've received from week 1 to week 4 and the week 6 quiz.  That is, everything you should have received a grade for.  Then you'll need to show me you know how to navigate the JSON in that file.\n",
        "\n",
        "Different from what we've done in the past, you do not have to write any functions or include any docstrings.  Just create some JSON and write some code.\n",
        "\n",
        "---"
      ]
    },
    {
      "cell_type": "markdown",
      "metadata": {
        "id": "HT5IVQkG84gA"
      },
      "source": [
        "## 7.1 Create a JSON file\n",
        "\n",
        "Create a JSON file that contains your name, email, year you were born, all of the grades you've received back so far, and a comment about what you thought was most challenging on each of those assignments.  This can be any structure you choose, but make sure it uses a dictionary and a list, and has at least two levels of hierarchy.  That is, it can't just be one big long list."
      ]
    },
    {
      "cell_type": "markdown",
      "source": [],
      "metadata": {
        "id": "g-OUIHTog8fT"
      }
    },
    {
      "cell_type": "markdown",
      "metadata": {
        "id": "CkVOl6Wc84gB"
      },
      "source": [
        "First, explain how your data structure is going to look..."
      ]
    },
    {
      "cell_type": "markdown",
      "metadata": {
        "id": "Z85B5GAI84gC"
      },
      "source": [
        "I created a JSON file with data extracted from the IMDB website https://www.imdb.com/title/tt0944947/episodes/?season=1  and the Game of Thrones wiki fandom website https://listofdeaths.fandom.com/wiki/Game_of_Thrones#Winter_Is_Coming, creating a dictionary containing lists of dictionaries for each season, including episode number (int), episode title (string) , rating (float) and number of deaths (int).\n",
        "\n",
        "\n"
      ]
    },
    {
      "cell_type": "markdown",
      "metadata": {
        "id": "uzCzIApr84gC"
      },
      "source": [
        "Then put the actual JSON you've created inside the multiline string below..."
      ]
    },
    {
      "cell_type": "code",
      "execution_count": 4,
      "metadata": {
        "id": "Wg9ZZ-Wq84gD"
      },
      "outputs": [],
      "source": [
        "hds5210 = {\"Game_of_Thrones_S1\": [{ \"episode\": 1,\n",
        "                         \"title\": \"Winter is Coming\",\n",
        "                         \"rating\": 8.9,\n",
        "                         \"deaths\": 28 },\n",
        "\n",
        "                        {\"episode\": 2,\n",
        "                         \"title\": \"The Kingsroad\",\n",
        "                         \"rating\": 8.6,\n",
        "                         \"deaths\": 10},\n",
        "\n",
        "                         {\"episode\": 3,\n",
        "                         \"title\": \"Lord Snow\",\n",
        "                         \"rating\": 8.5,\n",
        "                         \"deaths\": 7},\n",
        "\n",
        "                         {\"episode\": 4,\n",
        "                         \"title\": \"Cripples, Bastards, and Broken Things\",\n",
        "                         \"rating\": 8.6,\n",
        "                         \"deaths\": 13},\n",
        "\n",
        "                         {\"episode\": 5,\n",
        "                         \"title\": \"The Wolf and the Lion\",\n",
        "                         \"rating\": 9.0,\n",
        "                         \"deaths\": 21},\n",
        "\n",
        "                         {\"episode\": 6,\n",
        "                         \"title\": \"A Golden Crown\",\n",
        "                         \"rating\": 9.1,\n",
        "                         \"deaths\": 33},\n",
        "\n",
        "                         {\"episode\": 7,\n",
        "                         \"title\": \"You Win or You Die\",\n",
        "                         \"rating\": 9.1,\n",
        "                         \"deaths\": 31},\n",
        "\n",
        "                         {\"episode\": 8,\n",
        "                         \"title\": \"The Pointy End\",\n",
        "                         \"rating\": 8.9,\n",
        "                         \"deaths\": 29},\n",
        "\n",
        "                         {\"episode\": 9,\n",
        "                         \"title\": \"Baelor\",\n",
        "                         \"rating\": 9.6,\n",
        "                         \"deaths\": 2025},\n",
        "\n",
        "                         {\"episode\": 10,\n",
        "                         \"title\": \"Fire and Blood\",\n",
        "                         \"rating\": 9.4,\n",
        "                         \"deaths\": 42}],\n",
        "\n",
        "\"Game_of_Thrones_S2\": [{ \"episode\": 1,\n",
        "                         \"title\": \"The North Remembers\",\n",
        "                         \"rating\": 8.6,\n",
        "                         \"deaths\": 8 },\n",
        "\n",
        "                         {\"episode\": 2,\n",
        "                         \"title\": \"The Night Lands\",\n",
        "                         \"rating\": 8.3,\n",
        "                         \"deaths\": 5},\n",
        "\n",
        "                         {\"episode\": 3,\n",
        "                         \"title\": \"What Is Dead May Never Die\",\n",
        "                         \"rating\": 8.7,\n",
        "                         \"deaths\": 9},\n",
        "\n",
        "                         {\"episode\": 4,\n",
        "                         \"title\": \"Garden of Bones\",\n",
        "                         \"rating\": 8.6,\n",
        "                         \"deaths\": 58},\n",
        "\n",
        "                         {\"episode\": 5,\n",
        "                         \"title\": \"The Ghost of Harrenhal\",\n",
        "                         \"rating\": 8.6,\n",
        "                         \"deaths\": 6},\n",
        "\n",
        "                         {\"episode\": 6,\n",
        "                         \"title\": \"The Old Gods and the New\",\n",
        "                         \"rating\": 8.9,\n",
        "                         \"deaths\": 30},\n",
        "\n",
        "                         {\"episode\": 7,\n",
        "                         \"title\": \"A Man Without Honor\",\n",
        "                         \"rating\": 8.8,\n",
        "                         \"deaths\": 37},\n",
        "\n",
        "                         {\"episode\": 8,\n",
        "                         \"title\": \"The Prince of Winterfell\",\n",
        "                         \"rating\": 8.6,\n",
        "                         \"deaths\": 24},\n",
        "\n",
        "                         {\"episode\": 9,\n",
        "                         \"title\": \"Blackwater\",\n",
        "                         \"rating\": 9.7,\n",
        "                         \"deaths\": 10018},\n",
        "\n",
        "                         {\"episode\": 10,\n",
        "                         \"title\": \"Valar Morghulis\",\n",
        "                         \"rating\": 9.3,\n",
        "                         \"deaths\": 234}],\n",
        "\n",
        "\"Game_of_Thrones_S3\": [{ \"episode\": 1,\n",
        "                         \"title\": \"Valar Dohaeris\",\n",
        "                         \"rating\": 8.6,\n",
        "                         \"deaths\": 32203},\n",
        "\n",
        "                         {\"episode\": 2,\n",
        "                         \"title\": \"Dark Wings, Dark Words\",\n",
        "                         \"rating\": 8.5,\n",
        "                         \"deaths\": 202},\n",
        "\n",
        "                         {\"episode\": 3,\n",
        "                         \"title\": \"Walk of Punishment\",\n",
        "                         \"rating\": 8.7,\n",
        "                         \"deaths\": 268},\n",
        "\n",
        "                         {\"episode\": 4,\n",
        "                         \"title\": \"And Now His Watch Is Ended\",\n",
        "                         \"rating\": 9.5,\n",
        "                         \"deaths\": 15},\n",
        "\n",
        "                         {\"episode\": 5,\n",
        "                         \"title\": \"Kissed by Fire\",\n",
        "                         \"rating\": 8.9,\n",
        "                         \"deaths\": 21},\n",
        "\n",
        "                         {\"episode\": 6,\n",
        "                         \"title\": \"The Climb\",\n",
        "                         \"rating\": 8.7,\n",
        "                         \"deaths\": 10},\n",
        "\n",
        "                         {\"episode\": 7,\n",
        "                         \"title\": \"The Bear and the Maiden Fair\",\n",
        "                         \"rating\": 8.6,\n",
        "                         \"deaths\": 3},\n",
        "\n",
        "                         {\"episode\": 8,\n",
        "                         \"title\": \"Second Sons\",\n",
        "                         \"rating\": 8.9,\n",
        "                         \"deaths\": 7},\n",
        "\n",
        "                         {\"episode\": 9,\n",
        "                         \"title\": \"The Rains of Castamere\",\n",
        "                         \"rating\": 9.9,\n",
        "                         \"deaths\": 45},\n",
        "\n",
        "                         {\"episode\": 10,\n",
        "                         \"title\": \"Mhysa\",\n",
        "                         \"rating\": 9.1,\n",
        "                         \"deaths\": 34}],\n",
        "\n",
        " \"Game_of_Thrones_S4\": [{ \"episode\": 1,\n",
        "                         \"title\": \"Two Swords\",\n",
        "                         \"rating\": 9.0,\n",
        "                         \"deaths\": 1181},\n",
        "\n",
        "                         {\"episode\": 2,\n",
        "                         \"title\": \"The Lion and the Rose\",\n",
        "                         \"rating\": 9.7,\n",
        "                         \"deaths\": 10},\n",
        "\n",
        "                         {\"episode\": 3,\n",
        "                         \"title\": \"Breaker of Chains\",\n",
        "                         \"rating\": 8.7,\n",
        "                         \"deaths\": 27},\n",
        "\n",
        "                         {\"episode\": 4,\n",
        "                         \"title\": \"Oathkeeper\",\n",
        "                         \"rating\": 8.7,\n",
        "                         \"deaths\": 164},\n",
        "\n",
        "                         {\"episode\": 5,\n",
        "                         \"title\": \"First of His Name\",\n",
        "                         \"rating\": 8.6,\n",
        "                         \"deaths\": 17},\n",
        "\n",
        "                         {\"episode\": 6,\n",
        "                         \"title\": \"The Laws of Gods and Men\",\n",
        "                         \"rating\": 9.7,\n",
        "                         \"deaths\": 14},\n",
        "\n",
        "                         {\"episode\": 7,\n",
        "                         \"title\": \"Mockingbird\",\n",
        "                         \"rating\": 9.0,\n",
        "                         \"deaths\": 7},\n",
        "\n",
        "                         {\"episode\": 8,\n",
        "                         \"title\": \"The Mountain and the Viper\",\n",
        "                         \"rating\": 9.7,\n",
        "                         \"deaths\": 49},\n",
        "\n",
        "                         {\"episode\": 9,\n",
        "                         \"title\": \"The Watchers on the Wall\",\n",
        "                         \"rating\": 9.6,\n",
        "                         \"deaths\": 102},\n",
        "\n",
        "                         {\"episode\": 10,\n",
        "                         \"title\": \"The Children\",\n",
        "                         \"rating\": 9.6,\n",
        "                         \"deaths\": 146}],\n",
        "\n",
        " \"Game_of_Thrones_S5\": [{ \"episode\": 1,\n",
        "                         \"title\": \"The Wars to Come\",\n",
        "                         \"rating\": 8.3,\n",
        "                         \"deaths\": 5},\n",
        "\n",
        "                         {\"episode\": 2,\n",
        "                         \"title\": \"The House of Black and White\",\n",
        "                         \"rating\": 8.3,\n",
        "                         \"deaths\": 1012},\n",
        "\n",
        "                         {\"episode\": 3,\n",
        "                         \"title\": \"High Sparrow\",\n",
        "                         \"rating\": 8.4,\n",
        "                         \"deaths\": 8},\n",
        "\n",
        "                         {\"episode\": 4,\n",
        "                         \"title\": \"Sons of the Harpy\",\n",
        "                         \"rating\": 8.4,\n",
        "                         \"deaths\": 49},\n",
        "\n",
        "                         {\"episode\": 5,\n",
        "                         \"title\": \"Kill the Boy\",\n",
        "                         \"rating\": 8.5,\n",
        "                         \"deaths\": 7},\n",
        "\n",
        "                         {\"episode\": 6,\n",
        "                         \"title\": \"The Laws of Gods and Men\",\n",
        "                         \"rating\": 7.9,\n",
        "                         \"deaths\": 858},\n",
        "\n",
        "                         {\"episode\": 7,\n",
        "                         \"title\": \"The Gift\",\n",
        "                         \"rating\": 8.8,\n",
        "                         \"deaths\": 43},\n",
        "\n",
        "                         {\"episode\": 8,\n",
        "                         \"title\": \"Hardhome\",\n",
        "                         \"rating\": 9.8,\n",
        "                         \"deaths\": 676},\n",
        "\n",
        "                         {\"episode\": 9,\n",
        "                         \"title\": \"The Dance of Dragons\",\n",
        "                         \"rating\": 9.4,\n",
        "                         \"deaths\": 416},\n",
        "\n",
        "                         {\"episode\": 10,\n",
        "                         \"title\": \"Mother's Mercy\",\n",
        "                         \"rating\": 9.1,\n",
        "                         \"deaths\": 1327}],\n",
        "\n",
        "  \"Game_of_Thrones_S6\": [{ \"episode\": 1,\n",
        "                         \"title\": \"The Red Woman\",\n",
        "                         \"rating\": 8.4,\n",
        "                         \"deaths\": 10},\n",
        "\n",
        "                         {\"episode\": 2,\n",
        "                         \"title\": \"Home\",\n",
        "                         \"rating\": 9.2,\n",
        "                         \"deaths\": 11},\n",
        "\n",
        "                         {\"episode\": 3,\n",
        "                         \"title\": \"Oathbreaker\",\n",
        "                         \"rating\": 8.6,\n",
        "                         \"deaths\": 24},\n",
        "\n",
        "                         {\"episode\": 4,\n",
        "                         \"title\": \"Book of the Stranger\",\n",
        "                         \"rating\": 9.0,\n",
        "                         \"deaths\": 19},\n",
        "\n",
        "                         {\"episode\": 5,\n",
        "                         \"title\": \"The Door\",\n",
        "                         \"rating\": 9.7,\n",
        "                         \"deaths\": 76},\n",
        "\n",
        "                         {\"episode\": 6,\n",
        "                         \"title\": \"Blood of My Blood\",\n",
        "                         \"rating\": 8.3,\n",
        "                         \"deaths\": 9},\n",
        "\n",
        "                         {\"episode\": 7,\n",
        "                         \"title\": \"The Broken Man\",\n",
        "                         \"rating\": 8.5,\n",
        "                         \"deaths\": 30},\n",
        "\n",
        "                         {\"episode\": 8,\n",
        "                         \"title\": \"No One\",\n",
        "                         \"rating\": 8.3,\n",
        "                         \"deaths\": 11},\n",
        "\n",
        "                         {\"episode\": 9,\n",
        "                         \"title\": \"Battle of the Bastards\",\n",
        "                         \"rating\": 9.9,\n",
        "                         \"deaths\": 7200},\n",
        "\n",
        "                         {\"episode\": 10,\n",
        "                         \"title\": \"The Winds of Winter\",\n",
        "                         \"rating\": 9.9,\n",
        "                         \"deaths\": 186}],\n",
        "\n",
        "   \"Game_of_Thrones_S7\": [{ \"episode\": 1,\n",
        "                         \"title\": \"Dragonstone\",\n",
        "                         \"rating\": 8.5,\n",
        "                         \"deaths\": 45},\n",
        "\n",
        "                         {\"episode\": 2,\n",
        "                         \"title\": \"Stormborn\",\n",
        "                         \"rating\": 8.8,\n",
        "                         \"deaths\": 31},\n",
        "\n",
        "                         {\"episode\": 3,\n",
        "                         \"title\": \"The Queen's Justice\",\n",
        "                         \"rating\": 9.1,\n",
        "                         \"deaths\": 62},\n",
        "\n",
        "                         {\"episode\": 4,\n",
        "                         \"title\": \"The Spoils of War\",\n",
        "                         \"rating\": 9.7,\n",
        "                         \"deaths\": 102},\n",
        "\n",
        "                         {\"episode\": 5,\n",
        "                         \"title\": \"Eastwatch\",\n",
        "                         \"rating\": 8.7,\n",
        "                         \"deaths\": 4},\n",
        "\n",
        "                         {\"episode\": 6,\n",
        "                         \"title\": \"Beyond the Wall\",\n",
        "                         \"rating\": 9.0,\n",
        "                         \"deaths\": 338},\n",
        "\n",
        "                         {\"episode\": 7,\n",
        "                         \"title\": \"The Dragon and the Wolf\",\n",
        "                         \"rating\": 9.4,\n",
        "                         \"deaths\": 99502}],\n",
        "\n",
        "    \"Game_of_Thrones_S8\": [{ \"episode\": 1,\n",
        "                         \"title\": \"Winterfell\",\n",
        "                         \"rating\": 7.6,\n",
        "                         \"deaths\": 37},\n",
        "\n",
        "                         {\"episode\": 2,\n",
        "                         \"title\": \"A Knight of the Seven Kingdoms\",\n",
        "                         \"rating\": 7.9,\n",
        "                         \"deaths\": 1},\n",
        "\n",
        "                         {\"episode\": 3,\n",
        "                         \"title\": \"The Long Night\",\n",
        "                         \"rating\": 7.5,\n",
        "                         \"deaths\": 328033},\n",
        "\n",
        "                         {\"episode\": 4,\n",
        "                         \"title\": \"The Last of the Starks\",\n",
        "                         \"rating\": 5.5,\n",
        "                         \"deaths\": 3},\n",
        "\n",
        "                         {\"episode\": 5,\n",
        "                         \"title\": \"The Bells\",\n",
        "                         \"rating\": 5.9,\n",
        "                         \"deaths\": 795025},\n",
        "\n",
        "                         {\"episode\": 6,\n",
        "                         \"title\": \"The Iron Throne\",\n",
        "                         \"rating\": 4.0,\n",
        "                         \"deaths\": 6}],\n",
        "                         }"
      ]
    },
    {
      "cell_type": "markdown",
      "metadata": {
        "id": "a41kWTmT84gE"
      },
      "source": [
        "## 7.2 Do something with your JSON\n",
        "\n",
        "Now use Python code to do something with the Json above.  Turn it into English text, but make sure that you use at least one loop to access some dict or list content of your JSON.  Below, I've provided some basic code to read in the string above as JSON and return a Python object.  Your job is to work with that data structure and print out the important information like your name, email, and how you did on each assignment."
      ]
    },
    {
      "cell_type": "code",
      "execution_count": 51,
      "metadata": {
        "id": "f_NWikE684gE",
        "colab": {
          "base_uri": "https://localhost:8080/"
        },
        "outputId": "16896dfd-c963-48a3-e3a1-89bb207157ce"
      },
      "outputs": [
        {
          "output_type": "stream",
          "name": "stdout",
          "text": [
            "average_rating for Game_of_Thrones_S1 is 8.97\n",
            "average_rating for Game_of_Thrones_S2 is 8.809999999999999\n",
            "average_rating for Game_of_Thrones_S3 is 8.94\n",
            "average_rating for Game_of_Thrones_S4 is 9.229999999999999\n",
            "average_rating for Game_of_Thrones_S5 is 8.69\n",
            "average_rating for Game_of_Thrones_S6 is 8.98\n",
            "average_rating for Game_of_Thrones_S7 is 9.028571428571428\n",
            "average_rating for Game_of_Thrones_S8 is 6.3999999999999995\n"
          ]
        }
      ],
      "source": [
        "import json\n",
        "hds5210_got = json.dumps(hds5210)\n",
        "info = json.loads(hds5210_got)\n",
        "\n",
        "def average_ratings(data):\n",
        " for season, episodes in data.items():\n",
        "  ratings = [episode[\"rating\"] for episode in episodes]\n",
        "  average_rating = sum(ratings)/ len(ratings)\n",
        "  print(f\"average_rating for {season} is {average_rating}\")\n",
        "\n",
        "average_ratings(hds5210)\n",
        "\n",
        "\n"
      ]
    },
    {
      "cell_type": "code",
      "source": [
        "def average_ratings(data):\n",
        " all_ratings = [episode [\"rating\"] for episodes in data.values( ) for episode in episodes]\n",
        " if all_ratings:\n",
        "  average_rating = sum(all_ratings) / len(all_ratings)\n",
        "  print(f\"The average rating for Game of Thrones according to imdb is {average_rating}\")\n",
        "\n",
        "average_ratings(hds5210)"
      ],
      "metadata": {
        "colab": {
          "base_uri": "https://localhost:8080/"
        },
        "id": "YwFAj8DJtdP9",
        "outputId": "2d43ce8b-eb05-41d5-9bc3-8b9c8c0a8a48"
      },
      "execution_count": 57,
      "outputs": [
        {
          "output_type": "stream",
          "name": "stdout",
          "text": [
            "The average rating for Game of Thrones according to imdb is 8.736986301369862\n"
          ]
        }
      ]
    },
    {
      "cell_type": "code",
      "source": [
        "import doctest\n",
        "\n",
        "def sum_deaths(data):\n",
        "   \"\"\" According to the Wiki GoT fandom (https://listofdeaths.fandom.com/wiki/Game_of_Thrones#Winter_Is_Coming)\n",
        "   the total number of deaths from season 1-8 in Game of thrones is 1,282,359.\n",
        "   The data related to death counts for this JSON file was extracted from this website, meaning that the total number of deaths expected should match\n",
        "   1,282,359.\n",
        "\n",
        "   >>> sum_deaths(hds5210)\n",
        "   The total number of deaths in Game of Thrones from season 1-8 is 1282359\n",
        "   \"\"\"\n",
        "   total_deaths = 0\n",
        "   for season, episodes in data.items():\n",
        "     for episode in episodes:\n",
        "       total_deaths += episode[\"deaths\"]\n",
        "   print(f\"The total number of deaths in Game of Thrones from season 1-8 is {total_deaths}\")\n",
        "\n",
        "sum_deaths(hds5210)"
      ],
      "metadata": {
        "colab": {
          "base_uri": "https://localhost:8080/"
        },
        "id": "7v1iekXLyJ0W",
        "outputId": "4c770750-a658-4ed2-cee3-81e81378dd5c"
      },
      "execution_count": 115,
      "outputs": [
        {
          "output_type": "stream",
          "name": "stdout",
          "text": [
            "The total number of deaths in Game of Thrones from season 1-8 is 1282359\n"
          ]
        }
      ]
    },
    {
      "cell_type": "code",
      "source": [
        "doctest.run_docstring_examples(sum_deaths, globals(), verbose = True)"
      ],
      "metadata": {
        "colab": {
          "base_uri": "https://localhost:8080/"
        },
        "id": "U-QOG9Qt1Kzj",
        "outputId": "39ab11ec-76b1-4ae0-a236-e427c1d792c2"
      },
      "execution_count": 116,
      "outputs": [
        {
          "output_type": "stream",
          "name": "stdout",
          "text": [
            "Finding tests in NoName\n",
            "Trying:\n",
            "    sum_deaths(hds5210) \n",
            "Expecting:\n",
            "    The total number of deaths in Game of Thrones from season 1-8 is 1282359\n",
            "ok\n"
          ]
        }
      ]
    },
    {
      "cell_type": "markdown",
      "source": [],
      "metadata": {
        "id": "Zqp6flLX0-mr"
      }
    },
    {
      "cell_type": "markdown",
      "metadata": {
        "id": "rLUffxNF84gF"
      },
      "source": [
        "## 7.3 Reflect\n",
        "\n",
        "Write a paragraph on any reflections you have. Was this hard? Easy?  What parts were most challenging or easiest? What did you like or dislike about the assignment?  Share whatever important thoughts you have abou this assignment."
      ]
    },
    {
      "cell_type": "markdown",
      "metadata": {
        "id": "58aU6EaP84gF"
      },
      "source": [
        "I actually had fun doing this assignment, considering we had the freedom of choosing a topic of our liking I decided to go for my favorite TV, I fazed some challenges calculating the average rating for each season but nothing that couldn't be solved checking online resources and previous classwork we've done so far, I think the easiest part was creating the JSON file. Overall I'm happy with my work and I enjoyed this assignment."
      ]
    },
    {
      "cell_type": "markdown",
      "metadata": {
        "id": "U0R44ypy84gF"
      },
      "source": [
        "---\n",
        "\n",
        "# Example\n",
        "\n",
        "Below is an example of something similar, but this uses information my and my friend's kids instead of grades."
      ]
    },
    {
      "cell_type": "code",
      "execution_count": 117,
      "metadata": {
        "id": "ue_ozcTV84gG",
        "outputId": "888c1770-c623-42b0-b050-60235d51f6ab",
        "colab": {
          "base_uri": "https://localhost:8080/"
        }
      },
      "outputs": [
        {
          "output_type": "stream",
          "name": "stdout",
          "text": [
            "Hi, my name is Paul. I've got 3 kids. Their names are Ellie, Ada, Teddy.\n",
            "My friend, Anny has 1 kids. That's fewer than me. Their names are 1\n"
          ]
        }
      ],
      "source": [
        "hds5210 = \"\"\"\n",
        "{\n",
        "    \"me\": {\n",
        "        \"name\": \"Paul\",\n",
        "        \"kids\": [\"Ellie\", \"Ada\", \"Teddy\"]\n",
        "    },\n",
        "    \"friend\": {\n",
        "        \"name\": \"Anny\",\n",
        "        \"kids\": [\"Abby\"]\n",
        "    }\n",
        "}\n",
        "\"\"\"\n",
        "\n",
        "import json\n",
        "\n",
        "info = json.loads(hds5210)\n",
        "\n",
        "me = info[\"me\"][\"name\"]\n",
        "my_kids_count = len(info[\"me\"][\"kids\"])\n",
        "kids_list = \", \".join(info[\"me\"][\"kids\"])\n",
        "friend = info[\"friend\"][\"name\"]\n",
        "friends_kid_count = len(info[\"friend\"][\"kids\"])\n",
        "friend_kids = \", \".join(info[\"friend\"][\"kids\"])\n",
        "compare = \"more\" if friends_kid_count > my_kids_count else \"fewer\"\n",
        "\n",
        "print(f\"Hi, my name is {me}. I've got {my_kids_count} kids. Their names are {kids_list}.\")\n",
        "print(f\"My friend, {friend} has {friends_kid_count} kids. That's {compare} than me. Their names are {friends_kid_count}\")"
      ]
    }
  ],
  "metadata": {
    "kernelspec": {
      "display_name": "Python 3",
      "language": "python",
      "name": "python3"
    },
    "language_info": {
      "codemirror_mode": {
        "name": "ipython",
        "version": 3
      },
      "file_extension": ".py",
      "mimetype": "text/x-python",
      "name": "python",
      "nbconvert_exporter": "python",
      "pygments_lexer": "ipython3",
      "version": "3.9.16"
    },
    "colab": {
      "provenance": [],
      "include_colab_link": true
    }
  },
  "nbformat": 4,
  "nbformat_minor": 0
}