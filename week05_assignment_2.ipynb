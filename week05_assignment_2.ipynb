{
  "cells": [
    {
      "cell_type": "markdown",
      "metadata": {
        "id": "view-in-github",
        "colab_type": "text"
      },
      "source": [
        "<a href=\"https://colab.research.google.com/github/anacarmona1/HDS-5210-Ana/blob/main/week05_assignment_2.ipynb\" target=\"_parent\"><img src=\"https://colab.research.google.com/assets/colab-badge.svg\" alt=\"Open In Colab\"/></a>"
      ]
    },
    {
      "cell_type": "markdown",
      "metadata": {
        "nbgrader": {
          "grade": false,
          "grade_id": "intro",
          "locked": true,
          "schema_version": 1,
          "solution": false
        },
        "id": "-VmGzQ3_688s"
      },
      "source": [
        "# Week 5 Exercises\n",
        "\n",
        "_McKinney 3.2_\n",
        "\n",
        "**Unlike in previous weeks, in the exercises below, you will need to create a function definition from scratch.  I'll provide specific instructions and examples for how it will be used, but you will have to do the work of definiging the whole function.**\n",
        "\n",
        "---\n",
        "---"
      ]
    },
    {
      "cell_type": "markdown",
      "metadata": {
        "nbgrader": {
          "grade": false,
          "grade_id": "longest",
          "locked": true,
          "schema_version": 1,
          "solution": false
        },
        "id": "ta-LqMdt688u"
      },
      "source": [
        "### 5.1 Longest String\n",
        "\n",
        "Write a function called `longest (L)` that takes as its only parameter a list of strings.  Your function needs to find the longest of those strings and return the position number of that longest string.  An example is provided below:\n",
        "\n",
        "The longest word in that list of strings is \"birthday\" in position #1, so `longest(strings)` should return 1.\n",
        "```\n",
        ">>> strings = ['happy', 'birthday', 'to', 'me']\n",
        ">>> longest(strings)\n",
        "1\n",
        "```\n",
        "\n",
        "Be sure to include a docstring.  Include test cases in your docstring if you want to."
      ]
    },
    {
      "cell_type": "code",
      "execution_count": 51,
      "metadata": {
        "nbgrader": {
          "grade": false,
          "grade_id": "longest-answer",
          "locked": false,
          "schema_version": 1,
          "solution": true
        },
        "id": "NBb4IbYw688u"
      },
      "outputs": [],
      "source": [
        "### BEGIN SOLUTION\n",
        "import doctest\n",
        "\n",
        "def longest(strings):\n",
        "    \"\"\"(list) -> int\n",
        "    This function finds the longest string in the list of input strings\n",
        "    and returns the position number of that longest string.\n",
        "\n",
        "    >>> longest(['happy', 'birthday', 'to', 'me'])\n",
        "    1\n",
        "\n",
        "    >>> longest(['one', 'two', 'three', 'four'])\n",
        "    2\n",
        "    \"\"\"\n",
        "\n",
        "    longest_pos = 0\n",
        "    longest_len = 0\n",
        "\n",
        "    print(\"Position  Item         Longest So Far\")\n",
        "    print(\"--------- ------------ --------------\")\n",
        "    for position, item in enumerate(strings):\n",
        "\n",
        "        if len(item) > longest_len:\n",
        "            longest_pos = position\n",
        "            longest_len = len(item)\n",
        "        print(\"{0:9} {1:12} {2} : {3}\".format(position, item, longest_pos, longest_len))\n",
        "\n",
        "    return longest_pos\n",
        "\n",
        "### END SOLUTION"
      ]
    },
    {
      "cell_type": "code",
      "execution_count": 52,
      "metadata": {
        "id": "vSBNrIIi688v"
      },
      "outputs": [],
      "source": [
        "def longest(my_list):\n",
        "    \"\"\"(list)->int\n",
        "    Find the longest item in a list of strings and return the index for that string.\n",
        "    If there are multiple strings with the same length, return the index of the first of those longest strings.\n",
        "\n",
        "    >>> longest(['happy', 'birthday', 'to', 'me'])\n",
        "    1\n",
        "\n",
        "    >>> longest(['abc','def','ghi'])\n",
        "    0\n",
        "    \"\"\"\n",
        "\n",
        "    if type(my_list) != list:\n",
        "        raise TypeError(\"That isn't a list!\")\n",
        "\n",
        "    if len(my_list) == 0:\n",
        "        raise ValueError(\"There were no items in that list!\")\n",
        "\n",
        "    max_length = -1\n",
        "    max_index = None\n",
        "\n",
        "    for num, item in enumerate(my_list):\n",
        "        try:\n",
        "            if len(item) > max_length:\n",
        "                max_length = len(item)\n",
        "                max_index = num\n",
        "        except:\n",
        "            pass\n",
        "\n",
        "    return max_index\n"
      ]
    },
    {
      "cell_type": "code",
      "execution_count": 53,
      "metadata": {
        "id": "XUYHHRrj688w",
        "outputId": "868e4ff5-c2a6-410b-9cbd-74abd5f85abb",
        "colab": {
          "base_uri": "https://localhost:8080/"
        }
      },
      "outputs": [
        {
          "output_type": "execute_result",
          "data": {
            "text/plain": [
              "1"
            ]
          },
          "metadata": {},
          "execution_count": 53
        }
      ],
      "source": [
        "longest(['happy', 'birthday', 2, 'me'])"
      ]
    },
    {
      "cell_type": "code",
      "execution_count": 54,
      "metadata": {
        "id": "-epJrEYb688x",
        "outputId": "41583489-a25f-4386-cda4-8e10be6e98af",
        "colab": {
          "base_uri": "https://localhost:8080/"
        }
      },
      "outputs": [
        {
          "output_type": "execute_result",
          "data": {
            "text/plain": [
              "1"
            ]
          },
          "metadata": {},
          "execution_count": 54
        }
      ],
      "source": [
        "longest(['happy', 'birthday', 'to', 'me'])"
      ]
    },
    {
      "cell_type": "code",
      "execution_count": 55,
      "metadata": {
        "nbgrader": {
          "grade": true,
          "grade_id": "longest-tests",
          "locked": true,
          "points": 10,
          "schema_version": 1,
          "solution": false
        },
        "id": "6G6eYNSl688x"
      },
      "outputs": [],
      "source": [
        "assert longest(\"happy birthday to me\".split(\" \")) == 1\n",
        "assert longest(\"enjoy class\".split(\" \")) == 0\n",
        "assert longest(['when','what','where','how','who']) == 2"
      ]
    },
    {
      "cell_type": "code",
      "execution_count": 56,
      "metadata": {
        "id": "YG1WZun9688x",
        "outputId": "1c977d3e-3b34-4a25-b44c-08d9245c4f17",
        "colab": {
          "base_uri": "https://localhost:8080/"
        }
      },
      "outputs": [
        {
          "output_type": "stream",
          "name": "stdout",
          "text": [
            "Finding tests in NoName\n",
            "Trying:\n",
            "    longest(['happy', 'birthday', 'to', 'me'])\n",
            "Expecting:\n",
            "    1\n",
            "ok\n",
            "Trying:\n",
            "    longest(['abc','def','ghi'])\n",
            "Expecting:\n",
            "    0\n",
            "ok\n"
          ]
        }
      ],
      "source": [
        "import doctest\n",
        "doctest.run_docstring_examples(longest, globals(), verbose=True)"
      ]
    },
    {
      "cell_type": "markdown",
      "metadata": {
        "id": "a0q810yU688x"
      },
      "source": [
        "### 5.2 Celsius to Farenheit\n",
        "\n",
        "Write a function called f_to_c() that converts a given temperature in degrees Farenheit to degrees Celsius.  If you don't recall that conversion, it is:\n",
        "\n",
        "$ temp_c = \\frac{5}{9} \\times (temp_f - 32) $\n",
        "\n",
        "Make sure that you code is well documented using the DocString examples, and that your code includes tests for 212f, 32f, and 98.6f."
      ]
    },
    {
      "cell_type": "code",
      "execution_count": 57,
      "metadata": {
        "id": "jExfx4KB688y"
      },
      "outputs": [],
      "source": [
        "### BEGIN SOLUTION\n",
        "import doctest\n",
        "def f_to_c(f_temp):\n",
        "  \"\"\" this function converts Fahrenheit to Celcius using the formula tempc = 5/9 * (tempf - 32)\n",
        "  >>> f_to_c(212)\n",
        "  100.0\n",
        "  >>> f_to_c(32)\n",
        "  0.0\n",
        "  >>> f_to_c(98.6)\n",
        "  37.0\"\"\"\n",
        "  c_temp = 5/9 * (f_temp - 32)\n",
        "\n",
        "  return c_temp\n",
        "\n",
        "\n",
        "\n",
        "### END SOLUTION"
      ]
    },
    {
      "cell_type": "code",
      "execution_count": 58,
      "metadata": {
        "id": "dTtmqv6f688z"
      },
      "outputs": [],
      "source": [
        "assert f_to_c(212) == 100.0\n",
        "assert f_to_c(32) == 0.0\n",
        "assert f_to_c(98.6) == 37.0"
      ]
    },
    {
      "cell_type": "code",
      "execution_count": 59,
      "metadata": {
        "id": "OucU77fb688z",
        "outputId": "6c559634-9181-4502-9106-4ac67aab0f30",
        "colab": {
          "base_uri": "https://localhost:8080/"
        }
      },
      "outputs": [
        {
          "output_type": "execute_result",
          "data": {
            "text/plain": [
              "100.0"
            ]
          },
          "metadata": {},
          "execution_count": 59
        }
      ],
      "source": [
        "f_to_c(212)"
      ]
    },
    {
      "cell_type": "code",
      "execution_count": 60,
      "metadata": {
        "id": "jW7FQFgJ688z",
        "outputId": "af617a6d-07cb-4fd3-d0ae-8a51a4a978d8",
        "colab": {
          "base_uri": "https://localhost:8080/"
        }
      },
      "outputs": [
        {
          "output_type": "stream",
          "name": "stdout",
          "text": [
            "Finding tests in NoName\n",
            "Trying:\n",
            "    f_to_c(212)\n",
            "Expecting:\n",
            "    100.0\n",
            "ok\n",
            "Trying:\n",
            "    f_to_c(32)\n",
            "Expecting:\n",
            "    0.0\n",
            "ok\n",
            "Trying:\n",
            "    f_to_c(98.6)\n",
            "Expecting:\n",
            "    37.0\n",
            "ok\n"
          ]
        }
      ],
      "source": [
        "import doctest\n",
        "doctest.run_docstring_examples(f_to_c, globals(), verbose=True)"
      ]
    },
    {
      "cell_type": "markdown",
      "metadata": {
        "id": "ZbgVP53t688z"
      },
      "source": [
        "### 5.3 Computing Length of Stay\n",
        "\n",
        "For this problem, we have a collection of patient enounter data stored as a Python dictionary.  The `key` for the dictionary is the **encounter ID**, a code that starts with the letter `E` followed by four numbers.  The value associated with each encounter ID is another Python dictionary.  This \"inner\" dictionary holds three items: admit date, primary diagnosis, and discharge date.  See the example in the code below.\n",
        "\n",
        "You need to write a length of stay function that computes the length of stay, in whole days, between the admit date and discharge date.  However, if the diagnosis is \"Observation\" then the length of stay should always be returned as 0 regardless of the admit and discharge dates.\n",
        "\n",
        "You will find it handy to refer to this example here on how to calculate the number of days between two dates: https://stackoverflow.com/questions/151199/how-to-calculate-number-of-days-between-two-given-dates"
      ]
    },
    {
      "cell_type": "code",
      "execution_count": 61,
      "metadata": {
        "id": "OOvBEqxA688z"
      },
      "outputs": [],
      "source": [
        "import doctest\n",
        "from datetime import date\n",
        "\n",
        "### BEGIN SOLUTION\n",
        "my_encounters = {\n",
        "    \"E1234\": { \"admit\": date(2019,1,3), \"diagnosis\": \"COPD\", \"discharge\": date(2019,1,8) },\n",
        "    \"E8342\": { \"admit\": date(2019,1,5), \"diagnosis\": \"Hypertension\", \"discharge\": date(2019,1,9) },\n",
        "    \"E9231\": { \"admit\": date(2019,1,12), \"diagnosis\": \"Anxiety\", \"discharge\": date(2019,1,13) },\n",
        "    \"E8333\": { \"admit\": date(2019,1,15), \"diagnosis\": \"Observation\", \"discharge\": date(2019,1,16) },\n",
        "    \"E3342\": { \"admit\": date(2019,1,4), \"diagnosis\": \"Anxiety\", \"discharge\": date(2019,1,4)}\n",
        "}\n",
        "\n",
        "def los(admit, discharge, diagnosis) :\n",
        "    \"\"\"(date, date) -> int\n",
        "    Returns length of stay based on standard rules\n",
        "\n",
        "    >>> los(date(2019,1,3), date(2019,1,8), \"COPD\")\n",
        "    5\n",
        "    >>> los(date(2019,1,15), date(2019,1,16), \"Observation\")\n",
        "    0\n",
        "    \"\"\"\n",
        "    if diagnosis == \"Observation\":\n",
        "        return 0\n",
        "    return (discharge - admit).days\n",
        "\n",
        "### END SOLUTION"
      ]
    },
    {
      "cell_type": "code",
      "execution_count": 62,
      "metadata": {
        "id": "K0CMtB716880",
        "outputId": "2a169ba3-cc21-43c8-800e-a02f4fe44942",
        "colab": {
          "base_uri": "https://localhost:8080/"
        }
      },
      "outputs": [
        {
          "output_type": "stream",
          "name": "stdout",
          "text": [
            "Finding tests in NoName\n",
            "Trying:\n",
            "    los(date(2019,1,3), date(2019,1,8), \"COPD\")\n",
            "Expecting:\n",
            "    5\n",
            "ok\n",
            "Trying:\n",
            "    los(date(2019,1,15), date(2019,1,16), \"Observation\")\n",
            "Expecting:\n",
            "    0\n",
            "ok\n"
          ]
        }
      ],
      "source": [
        "import doctest\n",
        "doctest.run_docstring_examples(los, globals(), verbose=True)"
      ]
    },
    {
      "cell_type": "code",
      "execution_count": 63,
      "metadata": {
        "id": "himGUxjl6880",
        "outputId": "19fa6ac6-a5f5-4cb3-8329-84bc2a68cb4f",
        "colab": {
          "base_uri": "https://localhost:8080/"
        }
      },
      "outputs": [
        {
          "output_type": "stream",
          "name": "stdout",
          "text": [
            "5\n",
            "4\n",
            "1\n",
            "0\n",
            "0\n"
          ]
        }
      ],
      "source": [
        "encounters = {\n",
        "    \"E1234\": { \"admit\": date(2019,1,3), \"diagnosis\": \"COPD\", \"discharge\": date(2019,1,8) },\n",
        "    \"E8342\": { \"admit\": date(2019,1,5), \"diagnosis\": \"Hypertension\", \"discharge\": date(2019,1,9) },\n",
        "    \"E9231\": { \"admit\": date(2019,1,12), \"diagnosis\": \"Anxiety\", \"discharge\": date(2019,1,13) },\n",
        "    \"E8333\": { \"admit\": date(2019,1,15), \"diagnosis\": \"Observation\", \"discharge\": date(2019,1,16) },\n",
        "    \"E3342\": { \"admit\": date(2019,1,4), \"diagnosis\": \"Anxiety\", \"discharge\": date(2019,1,4)}\n",
        "}\n",
        "\n",
        "\n",
        "for e, v in encounters.items():\n",
        "    print(los(v['admit'],v['discharge'],v['diagnosis']))"
      ]
    },
    {
      "cell_type": "markdown",
      "metadata": {
        "id": "BrweoBgU6880"
      },
      "source": [
        "---\n",
        "---\n",
        "\n",
        "### 5.4 Average Length of Stay\n",
        "\n",
        "Create a function called `average_los` that returns the average of the LOS for the encounters in the provided dictionary. The encounters must be a dictionary that contains dictionaries that each contain at least an admit date and a discharge date.\n",
        "    \n",
        "If the length of stay of any individual encounter is 0, then it will not be counted toward the average."
      ]
    },
    {
      "cell_type": "code",
      "execution_count": 64,
      "metadata": {
        "id": "exZyKSV_6880"
      },
      "outputs": [],
      "source": [
        "import doctest\n",
        "from datetime import date\n",
        "#BEGIN SOLUTION\n",
        "from datetime import date\n",
        "\n",
        "def los(admit, discharge):\n",
        "    return (discharge - admit).days\n",
        "\n",
        "    def average_los(encounters):\n",
        "       \"\"\"(dict) -> float\n",
        "    Compute the average length of stay over all visits, excluding those with LOS of 0.\n",
        "\n",
        "    >>> average_los({\n",
        "    ...     \"E1234\": { \"admit\": date(2019,1,3), \"diagnosis\": \"COPD\", \"discharge\": date(2019,1,8) },\n",
        "    ...     \"E8342\": { \"admit\": date(2019,1,5), \"diagnosis\": \"Hypertension\", \"discharge\": date(2019,1,9) },\n",
        "    ...     \"E9231\": { \"admit\": date(2019,1,12), \"diagnosis\": \"Anxiety\", \"discharge\": date(2019,1,13) },\n",
        "    ...     \"E8333\": { \"admit\": date(2019,1,15), \"diagnosis\": \"Observation\", \"discharge\": date(2019,1,16) },\n",
        "    ...     \"E3342\": { \"admit\": date(2019,1,4), \"diagnosis\": \"Anxiety\", \"discharge\": date(2019,1,4) }\n",
        "    ... })\n",
        "    2.75\n",
        "    \"\"\"\n",
        "    total_los = 0\n",
        "    count = 0\n",
        "\n",
        "    for encounter in encounters.values():\n",
        "        length_of_stay = los(encounter[\"admit\"], encounter[\"discharge\"])\n",
        "        if length_of_stay > 0:\n",
        "            total_los += length_of_stay\n",
        "            count += 1\n",
        "\n",
        "    if count == 0:\n",
        "        return 0\n",
        "\n",
        "    return total_los / count\n",
        "#END SOLUTION"
      ]
    },
    {
      "cell_type": "code",
      "execution_count": 65,
      "metadata": {
        "id": "AcEQMQnf6880"
      },
      "outputs": [],
      "source": [
        "from datetime import date\n",
        "encounters = {\n",
        "    \"E1234\": { \"admit\": date(2019,1,3), \"diagnosis\": \"COPD\", \"discharge\": date(2019,1,8) },\n",
        "    \"E8342\": { \"admit\": date(2019,1,5), \"diagnosis\": \"Hypertension\", \"discharge\": date(2019,1,9) },\n",
        "    \"E9231\": { \"admit\": date(2019,1,12), \"diagnosis\": \"Anxiety\", \"discharge\": date(2019,1,13) },\n",
        "    \"E8333\": { \"admit\": date(2019,1,15), \"diagnosis\": \"Observation\", \"discharge\": date(2019,1,16) },\n",
        "    \"E3342\": { \"admit\": date(2019,1,4), \"diagnosis\": \"Anxiety\", \"discharge\": date(2019,1,4)}\n",
        "}\n",
        "\n",
        "assert(average_los(encounters)) == 2.75"
      ]
    },
    {
      "cell_type": "code",
      "execution_count": 66,
      "metadata": {
        "id": "6Y1ZVSoJ6880",
        "colab": {
          "base_uri": "https://localhost:8080/"
        },
        "outputId": "63ee3f8b-0a60-4b85-8bd7-2a93f4b447d4"
      },
      "outputs": [
        {
          "output_type": "stream",
          "name": "stdout",
          "text": [
            "Finding tests in NoName\n",
            "Trying:\n",
            "    average_los({\n",
            "        \"E1234\": { \"admit\": date(2019,1,3), \"diagnosis\": \"COPD\", \"discharge\": date(2019,1,8) },\n",
            "        \"E8342\": { \"admit\": date(2019,1,5), \"diagnosis\": \"Hypertension\", \"discharge\": date(2019,1,9) },\n",
            "        \"E9231\": { \"admit\": date(2019,1,12), \"diagnosis\": \"Anxiety\", \"discharge\": date(2019,1,13) },\n",
            "        \"E8333\": { \"admit\": date(2019,1,15), \"diagnosis\": \"Observation\", \"discharge\": date(2019,1,16) },\n",
            "        \"E3342\": { \"admit\": date(2019,1,4), \"diagnosis\": \"Anxiety\", \"discharge\": date(2019,1,4) }\n",
            "    })\n",
            "Expecting:\n",
            "    2.75\n",
            "ok\n"
          ]
        }
      ],
      "source": [
        "import doctest\n",
        "doctest.run_docstring_examples(average_los, globals(), verbose=True)"
      ]
    },
    {
      "cell_type": "markdown",
      "metadata": {
        "id": "x3I9xNxx6881"
      },
      "source": [
        "---\n",
        "\n",
        "### 5.5 Celsius to Farenheit\n",
        "\n",
        "Write your own function called `c_to_f` that converts degrees Celsius to degrees Farenheit.  Include in your solution a series of doc tests that can verify the conversion using inputs of 100, 0, and 37 degrees Celsius"
      ]
    },
    {
      "cell_type": "code",
      "execution_count": 67,
      "metadata": {
        "id": "poq5wL856881"
      },
      "outputs": [],
      "source": [
        "### BEGIN SOLUTION\n",
        "import doctest\n",
        "def c_to_f(c_temp):\n",
        "  \"\"\" this function converts Fahrenheit to Celcius using the formula tempf = 9/5 * tempc + 32\n",
        "  >>> c_to_f(100)\n",
        "  212.0\n",
        "  >>> c_to_f(0)\n",
        "  32.0\n",
        "  >>> c_to_f(37)\n",
        "  98.6\"\"\"\n",
        "  f_temp = (9/5 * c_temp) + 32\n",
        "\n",
        "  return round(f_temp, 1)\n",
        "### END SOLUTION"
      ]
    },
    {
      "cell_type": "code",
      "execution_count": 68,
      "metadata": {
        "id": "jv3qOrLi6881"
      },
      "outputs": [],
      "source": [
        "assert c_to_f(100) == 212.0\n",
        "assert c_to_f(0) == 32.0\n",
        "assert c_to_f(37) == 98.6"
      ]
    },
    {
      "cell_type": "code",
      "execution_count": 69,
      "metadata": {
        "id": "AoCpPxEp6881",
        "colab": {
          "base_uri": "https://localhost:8080/"
        },
        "outputId": "3ffc70fd-40bc-4431-f80d-840c64a25d5f"
      },
      "outputs": [
        {
          "output_type": "stream",
          "name": "stdout",
          "text": [
            "Finding tests in NoName\n",
            "Trying:\n",
            "    c_to_f(100)\n",
            "Expecting:\n",
            "    212.0\n",
            "ok\n",
            "Trying:\n",
            "    c_to_f(0)\n",
            "Expecting:\n",
            "    32.0\n",
            "ok\n",
            "Trying:\n",
            "    c_to_f(37)\n",
            "Expecting:\n",
            "    98.6\n",
            "ok\n"
          ]
        }
      ],
      "source": [
        "import doctest\n",
        "doctest.run_docstring_examples(c_to_f, globals(), verbose=True)"
      ]
    },
    {
      "cell_type": "markdown",
      "metadata": {
        "id": "fb79OHEl6881"
      },
      "source": [
        "---\n",
        "\n",
        "## Check your work above\n",
        "\n",
        "If you didn't get them all correct, take a few minutes to think through those that aren't correct.\n",
        "\n",
        "\n",
        "## Submitting Your Work\n",
        "\n",
        "In order to submit your work, you'll need to use the `git` command line program to **add** your homework file (this file) to your local repository, **commit** your changes to your local repository, and then **push** those changes up to github.com.  From there, I'll be able to **pull** the changes down and do my grading.  I'll provide some feedback, **commit** and **push** my comments back to you.  Next week, I'll show you how to **pull** down my comments.\n",
        "\n",
        "First run through everything one last time and submit your work:\n",
        "1. Use the `Kernel` -> `Restart Kernel and Run All Cells` menu option to run everything from top to bottom and stop here.\n",
        "2. Then open a new command line by clicking the `+` icon above the file list and chosing `Terminal`\n",
        "3. At the command line in the new Terminal, follow these steps:\n",
        "  1. Change directories to your project folder and the week03 subfolder (`cd <folder name>`)\n",
        "  2. Make sure your project folders are up to date with github.com (`git pull`)\n",
        "  3. Add the homework files for this week (`git add <file name>`)\n",
        "  4. Commit your changes (`git commit -a -m \"message\"`)\n",
        "  5. Push your changes (`git push`)\n",
        "  \n",
        "If anything fails along the way with this submission part of the process, let me know.  I'll help you troubleshoort."
      ]
    }
  ],
  "metadata": {
    "celltoolbar": "Create Assignment",
    "kernelspec": {
      "display_name": "Python 3",
      "language": "python",
      "name": "python3"
    },
    "language_info": {
      "codemirror_mode": {
        "name": "ipython",
        "version": 3
      },
      "file_extension": ".py",
      "mimetype": "text/x-python",
      "name": "python",
      "nbconvert_exporter": "python",
      "pygments_lexer": "ipython3",
      "version": "3.6.7"
    },
    "colab": {
      "provenance": [],
      "include_colab_link": true
    }
  },
  "nbformat": 4,
  "nbformat_minor": 0
}